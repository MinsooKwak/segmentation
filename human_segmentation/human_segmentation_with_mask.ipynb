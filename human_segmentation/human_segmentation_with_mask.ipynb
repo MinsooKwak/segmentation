{
  "nbformat": 4,
  "nbformat_minor": 0,
  "metadata": {
    "colab": {
      "provenance": [],
      "gpuType": "T4",
      "authorship_tag": "ABX9TyN/zwXaQRmo5UXuEdhxZ4rG",
      "include_colab_link": true
    },
    "kernelspec": {
      "name": "python3",
      "display_name": "Python 3"
    },
    "language_info": {
      "name": "python"
    },
    "accelerator": "GPU"
  },
  "cells": [
    {
      "cell_type": "markdown",
      "metadata": {
        "id": "view-in-github",
        "colab_type": "text"
      },
      "source": [
        "<a href=\"https://colab.research.google.com/github/MinsooKwak/segmentation/blob/main/human_segmentation/human_segmentation_with_mask.ipynb\" target=\"_parent\"><img src=\"https://colab.research.google.com/assets/colab-badge.svg\" alt=\"Open In Colab\"/></a>"
      ]
    },
    {
      "cell_type": "markdown",
      "source": [
        "- kaggle의 Human Segmentation Dataset을 활용\n",
        "  - 링크 : https://www.kaggle.com/datasets/tapakah68/supervisely-filtered-segmentation-person-dataset/data\n",
        "  - 사람에 대한 마스크 기반 segmentation"
      ],
      "metadata": {
        "id": "0_bFD1BmC0r4"
      }
    },
    {
      "cell_type": "code",
      "execution_count": 1,
      "metadata": {
        "id": "GBgRyhhGCr57",
        "colab": {
          "base_uri": "https://localhost:8080/"
        },
        "outputId": "4294b2bf-d610-48ea-f639-39cde723efdd"
      },
      "outputs": [
        {
          "output_type": "stream",
          "name": "stdout",
          "text": [
            "Mounted at /content/drive\n"
          ]
        }
      ],
      "source": [
        "from google.colab import drive\n",
        "drive.mount('/content/drive')"
      ]
    },
    {
      "cell_type": "code",
      "source": [
        "import os\n",
        "import pandas as pd\n",
        "import numpy as np\n",
        "import matplotlib.pyplot as plt\n",
        "import seaborn as sns\n",
        "import cv2"
      ],
      "metadata": {
        "id": "rKgERyReXVm0"
      },
      "execution_count": 2,
      "outputs": []
    },
    {
      "cell_type": "markdown",
      "source": [
        "## 1. 데이터셋"
      ],
      "metadata": {
        "id": "uvJNT81HYWpn"
      }
    },
    {
      "cell_type": "markdown",
      "source": [
        "- segmentation의 경우 png는 어그러질 수 있기 때문에 png 또는 array 형식이 좋음"
      ],
      "metadata": {
        "id": "C-6J7F9y7evP"
      }
    },
    {
      "cell_type": "code",
      "source": [
        "data_dir = '/content/drive/MyDrive/DataSet/human_segmentation/'\n",
        "data_df = pd.read_csv(os.path.join(data_dir, \"df.csv\"))\n",
        "data_df.head()"
      ],
      "metadata": {
        "colab": {
          "base_uri": "https://localhost:8080/",
          "height": 310
        },
        "id": "DKaJ91QqXiu1",
        "outputId": "95ad9a2f-5fc7-4257-d8ff-ea8c83b024bc"
      },
      "execution_count": 3,
      "outputs": [
        {
          "output_type": "execute_result",
          "data": {
            "text/plain": [
              "   Unnamed: 0                               images  \\\n",
              "0           0  images/ds10_pexels-photo-687782.png   \n",
              "1           1  images/ds10_pexels-photo-835971.png   \n",
              "2           2  images/ds10_pexels-photo-850708.png   \n",
              "3           3  images/ds10_pexels-photo-864937.png   \n",
              "4           4  images/ds10_pexels-photo-865908.png   \n",
              "\n",
              "                                masks                              collages  \n",
              "0  masks/ds10_pexels-photo-687782.png  collage/ds10_pexels-photo-687782.jpg  \n",
              "1  masks/ds10_pexels-photo-835971.png  collage/ds10_pexels-photo-835971.jpg  \n",
              "2  masks/ds10_pexels-photo-850708.png  collage/ds10_pexels-photo-850708.jpg  \n",
              "3  masks/ds10_pexels-photo-864937.png  collage/ds10_pexels-photo-864937.jpg  \n",
              "4  masks/ds10_pexels-photo-865908.png  collage/ds10_pexels-photo-865908.jpg  "
            ],
            "text/html": [
              "\n",
              "  <div id=\"df-1297be36-9617-429a-9d85-42584e13b6ee\" class=\"colab-df-container\">\n",
              "    <div>\n",
              "<style scoped>\n",
              "    .dataframe tbody tr th:only-of-type {\n",
              "        vertical-align: middle;\n",
              "    }\n",
              "\n",
              "    .dataframe tbody tr th {\n",
              "        vertical-align: top;\n",
              "    }\n",
              "\n",
              "    .dataframe thead th {\n",
              "        text-align: right;\n",
              "    }\n",
              "</style>\n",
              "<table border=\"1\" class=\"dataframe\">\n",
              "  <thead>\n",
              "    <tr style=\"text-align: right;\">\n",
              "      <th></th>\n",
              "      <th>Unnamed: 0</th>\n",
              "      <th>images</th>\n",
              "      <th>masks</th>\n",
              "      <th>collages</th>\n",
              "    </tr>\n",
              "  </thead>\n",
              "  <tbody>\n",
              "    <tr>\n",
              "      <th>0</th>\n",
              "      <td>0</td>\n",
              "      <td>images/ds10_pexels-photo-687782.png</td>\n",
              "      <td>masks/ds10_pexels-photo-687782.png</td>\n",
              "      <td>collage/ds10_pexels-photo-687782.jpg</td>\n",
              "    </tr>\n",
              "    <tr>\n",
              "      <th>1</th>\n",
              "      <td>1</td>\n",
              "      <td>images/ds10_pexels-photo-835971.png</td>\n",
              "      <td>masks/ds10_pexels-photo-835971.png</td>\n",
              "      <td>collage/ds10_pexels-photo-835971.jpg</td>\n",
              "    </tr>\n",
              "    <tr>\n",
              "      <th>2</th>\n",
              "      <td>2</td>\n",
              "      <td>images/ds10_pexels-photo-850708.png</td>\n",
              "      <td>masks/ds10_pexels-photo-850708.png</td>\n",
              "      <td>collage/ds10_pexels-photo-850708.jpg</td>\n",
              "    </tr>\n",
              "    <tr>\n",
              "      <th>3</th>\n",
              "      <td>3</td>\n",
              "      <td>images/ds10_pexels-photo-864937.png</td>\n",
              "      <td>masks/ds10_pexels-photo-864937.png</td>\n",
              "      <td>collage/ds10_pexels-photo-864937.jpg</td>\n",
              "    </tr>\n",
              "    <tr>\n",
              "      <th>4</th>\n",
              "      <td>4</td>\n",
              "      <td>images/ds10_pexels-photo-865908.png</td>\n",
              "      <td>masks/ds10_pexels-photo-865908.png</td>\n",
              "      <td>collage/ds10_pexels-photo-865908.jpg</td>\n",
              "    </tr>\n",
              "  </tbody>\n",
              "</table>\n",
              "</div>\n",
              "    <div class=\"colab-df-buttons\">\n",
              "\n",
              "  <div class=\"colab-df-container\">\n",
              "    <button class=\"colab-df-convert\" onclick=\"convertToInteractive('df-1297be36-9617-429a-9d85-42584e13b6ee')\"\n",
              "            title=\"Convert this dataframe to an interactive table.\"\n",
              "            style=\"display:none;\">\n",
              "\n",
              "  <svg xmlns=\"http://www.w3.org/2000/svg\" height=\"24px\" viewBox=\"0 -960 960 960\">\n",
              "    <path d=\"M120-120v-720h720v720H120Zm60-500h600v-160H180v160Zm220 220h160v-160H400v160Zm0 220h160v-160H400v160ZM180-400h160v-160H180v160Zm440 0h160v-160H620v160ZM180-180h160v-160H180v160Zm440 0h160v-160H620v160Z\"/>\n",
              "  </svg>\n",
              "    </button>\n",
              "\n",
              "  <style>\n",
              "    .colab-df-container {\n",
              "      display:flex;\n",
              "      gap: 12px;\n",
              "    }\n",
              "\n",
              "    .colab-df-convert {\n",
              "      background-color: #E8F0FE;\n",
              "      border: none;\n",
              "      border-radius: 50%;\n",
              "      cursor: pointer;\n",
              "      display: none;\n",
              "      fill: #1967D2;\n",
              "      height: 32px;\n",
              "      padding: 0 0 0 0;\n",
              "      width: 32px;\n",
              "    }\n",
              "\n",
              "    .colab-df-convert:hover {\n",
              "      background-color: #E2EBFA;\n",
              "      box-shadow: 0px 1px 2px rgba(60, 64, 67, 0.3), 0px 1px 3px 1px rgba(60, 64, 67, 0.15);\n",
              "      fill: #174EA6;\n",
              "    }\n",
              "\n",
              "    .colab-df-buttons div {\n",
              "      margin-bottom: 4px;\n",
              "    }\n",
              "\n",
              "    [theme=dark] .colab-df-convert {\n",
              "      background-color: #3B4455;\n",
              "      fill: #D2E3FC;\n",
              "    }\n",
              "\n",
              "    [theme=dark] .colab-df-convert:hover {\n",
              "      background-color: #434B5C;\n",
              "      box-shadow: 0px 1px 3px 1px rgba(0, 0, 0, 0.15);\n",
              "      filter: drop-shadow(0px 1px 2px rgba(0, 0, 0, 0.3));\n",
              "      fill: #FFFFFF;\n",
              "    }\n",
              "  </style>\n",
              "\n",
              "    <script>\n",
              "      const buttonEl =\n",
              "        document.querySelector('#df-1297be36-9617-429a-9d85-42584e13b6ee button.colab-df-convert');\n",
              "      buttonEl.style.display =\n",
              "        google.colab.kernel.accessAllowed ? 'block' : 'none';\n",
              "\n",
              "      async function convertToInteractive(key) {\n",
              "        const element = document.querySelector('#df-1297be36-9617-429a-9d85-42584e13b6ee');\n",
              "        const dataTable =\n",
              "          await google.colab.kernel.invokeFunction('convertToInteractive',\n",
              "                                                    [key], {});\n",
              "        if (!dataTable) return;\n",
              "\n",
              "        const docLinkHtml = 'Like what you see? Visit the ' +\n",
              "          '<a target=\"_blank\" href=https://colab.research.google.com/notebooks/data_table.ipynb>data table notebook</a>'\n",
              "          + ' to learn more about interactive tables.';\n",
              "        element.innerHTML = '';\n",
              "        dataTable['output_type'] = 'display_data';\n",
              "        await google.colab.output.renderOutput(dataTable, element);\n",
              "        const docLink = document.createElement('div');\n",
              "        docLink.innerHTML = docLinkHtml;\n",
              "        element.appendChild(docLink);\n",
              "      }\n",
              "    </script>\n",
              "  </div>\n",
              "\n",
              "\n",
              "<div id=\"df-74cf12eb-ff18-40cf-8a52-ee3dc36bf33e\">\n",
              "  <button class=\"colab-df-quickchart\" onclick=\"quickchart('df-74cf12eb-ff18-40cf-8a52-ee3dc36bf33e')\"\n",
              "            title=\"Suggest charts\"\n",
              "            style=\"display:none;\">\n",
              "\n",
              "<svg xmlns=\"http://www.w3.org/2000/svg\" height=\"24px\"viewBox=\"0 0 24 24\"\n",
              "     width=\"24px\">\n",
              "    <g>\n",
              "        <path d=\"M19 3H5c-1.1 0-2 .9-2 2v14c0 1.1.9 2 2 2h14c1.1 0 2-.9 2-2V5c0-1.1-.9-2-2-2zM9 17H7v-7h2v7zm4 0h-2V7h2v10zm4 0h-2v-4h2v4z\"/>\n",
              "    </g>\n",
              "</svg>\n",
              "  </button>\n",
              "\n",
              "<style>\n",
              "  .colab-df-quickchart {\n",
              "      --bg-color: #E8F0FE;\n",
              "      --fill-color: #1967D2;\n",
              "      --hover-bg-color: #E2EBFA;\n",
              "      --hover-fill-color: #174EA6;\n",
              "      --disabled-fill-color: #AAA;\n",
              "      --disabled-bg-color: #DDD;\n",
              "  }\n",
              "\n",
              "  [theme=dark] .colab-df-quickchart {\n",
              "      --bg-color: #3B4455;\n",
              "      --fill-color: #D2E3FC;\n",
              "      --hover-bg-color: #434B5C;\n",
              "      --hover-fill-color: #FFFFFF;\n",
              "      --disabled-bg-color: #3B4455;\n",
              "      --disabled-fill-color: #666;\n",
              "  }\n",
              "\n",
              "  .colab-df-quickchart {\n",
              "    background-color: var(--bg-color);\n",
              "    border: none;\n",
              "    border-radius: 50%;\n",
              "    cursor: pointer;\n",
              "    display: none;\n",
              "    fill: var(--fill-color);\n",
              "    height: 32px;\n",
              "    padding: 0;\n",
              "    width: 32px;\n",
              "  }\n",
              "\n",
              "  .colab-df-quickchart:hover {\n",
              "    background-color: var(--hover-bg-color);\n",
              "    box-shadow: 0 1px 2px rgba(60, 64, 67, 0.3), 0 1px 3px 1px rgba(60, 64, 67, 0.15);\n",
              "    fill: var(--button-hover-fill-color);\n",
              "  }\n",
              "\n",
              "  .colab-df-quickchart-complete:disabled,\n",
              "  .colab-df-quickchart-complete:disabled:hover {\n",
              "    background-color: var(--disabled-bg-color);\n",
              "    fill: var(--disabled-fill-color);\n",
              "    box-shadow: none;\n",
              "  }\n",
              "\n",
              "  .colab-df-spinner {\n",
              "    border: 2px solid var(--fill-color);\n",
              "    border-color: transparent;\n",
              "    border-bottom-color: var(--fill-color);\n",
              "    animation:\n",
              "      spin 1s steps(1) infinite;\n",
              "  }\n",
              "\n",
              "  @keyframes spin {\n",
              "    0% {\n",
              "      border-color: transparent;\n",
              "      border-bottom-color: var(--fill-color);\n",
              "      border-left-color: var(--fill-color);\n",
              "    }\n",
              "    20% {\n",
              "      border-color: transparent;\n",
              "      border-left-color: var(--fill-color);\n",
              "      border-top-color: var(--fill-color);\n",
              "    }\n",
              "    30% {\n",
              "      border-color: transparent;\n",
              "      border-left-color: var(--fill-color);\n",
              "      border-top-color: var(--fill-color);\n",
              "      border-right-color: var(--fill-color);\n",
              "    }\n",
              "    40% {\n",
              "      border-color: transparent;\n",
              "      border-right-color: var(--fill-color);\n",
              "      border-top-color: var(--fill-color);\n",
              "    }\n",
              "    60% {\n",
              "      border-color: transparent;\n",
              "      border-right-color: var(--fill-color);\n",
              "    }\n",
              "    80% {\n",
              "      border-color: transparent;\n",
              "      border-right-color: var(--fill-color);\n",
              "      border-bottom-color: var(--fill-color);\n",
              "    }\n",
              "    90% {\n",
              "      border-color: transparent;\n",
              "      border-bottom-color: var(--fill-color);\n",
              "    }\n",
              "  }\n",
              "</style>\n",
              "\n",
              "  <script>\n",
              "    async function quickchart(key) {\n",
              "      const quickchartButtonEl =\n",
              "        document.querySelector('#' + key + ' button');\n",
              "      quickchartButtonEl.disabled = true;  // To prevent multiple clicks.\n",
              "      quickchartButtonEl.classList.add('colab-df-spinner');\n",
              "      try {\n",
              "        const charts = await google.colab.kernel.invokeFunction(\n",
              "            'suggestCharts', [key], {});\n",
              "      } catch (error) {\n",
              "        console.error('Error during call to suggestCharts:', error);\n",
              "      }\n",
              "      quickchartButtonEl.classList.remove('colab-df-spinner');\n",
              "      quickchartButtonEl.classList.add('colab-df-quickchart-complete');\n",
              "    }\n",
              "    (() => {\n",
              "      let quickchartButtonEl =\n",
              "        document.querySelector('#df-74cf12eb-ff18-40cf-8a52-ee3dc36bf33e button');\n",
              "      quickchartButtonEl.style.display =\n",
              "        google.colab.kernel.accessAllowed ? 'block' : 'none';\n",
              "    })();\n",
              "  </script>\n",
              "</div>\n",
              "\n",
              "    </div>\n",
              "  </div>\n"
            ]
          },
          "metadata": {},
          "execution_count": 3
        }
      ]
    },
    {
      "cell_type": "code",
      "source": [
        "df = data_df[['images','masks']]\n",
        "df.head(3)"
      ],
      "metadata": {
        "colab": {
          "base_uri": "https://localhost:8080/",
          "height": 143
        },
        "id": "Ur7U_vYJX3Qi",
        "outputId": "4512cf6a-b0d0-4821-9821-a5d1626378cd"
      },
      "execution_count": 4,
      "outputs": [
        {
          "output_type": "execute_result",
          "data": {
            "text/plain": [
              "                                images                               masks\n",
              "0  images/ds10_pexels-photo-687782.png  masks/ds10_pexels-photo-687782.png\n",
              "1  images/ds10_pexels-photo-835971.png  masks/ds10_pexels-photo-835971.png\n",
              "2  images/ds10_pexels-photo-850708.png  masks/ds10_pexels-photo-850708.png"
            ],
            "text/html": [
              "\n",
              "  <div id=\"df-3a2b39f5-22bd-4f27-a8d4-05b9cf0fd176\" class=\"colab-df-container\">\n",
              "    <div>\n",
              "<style scoped>\n",
              "    .dataframe tbody tr th:only-of-type {\n",
              "        vertical-align: middle;\n",
              "    }\n",
              "\n",
              "    .dataframe tbody tr th {\n",
              "        vertical-align: top;\n",
              "    }\n",
              "\n",
              "    .dataframe thead th {\n",
              "        text-align: right;\n",
              "    }\n",
              "</style>\n",
              "<table border=\"1\" class=\"dataframe\">\n",
              "  <thead>\n",
              "    <tr style=\"text-align: right;\">\n",
              "      <th></th>\n",
              "      <th>images</th>\n",
              "      <th>masks</th>\n",
              "    </tr>\n",
              "  </thead>\n",
              "  <tbody>\n",
              "    <tr>\n",
              "      <th>0</th>\n",
              "      <td>images/ds10_pexels-photo-687782.png</td>\n",
              "      <td>masks/ds10_pexels-photo-687782.png</td>\n",
              "    </tr>\n",
              "    <tr>\n",
              "      <th>1</th>\n",
              "      <td>images/ds10_pexels-photo-835971.png</td>\n",
              "      <td>masks/ds10_pexels-photo-835971.png</td>\n",
              "    </tr>\n",
              "    <tr>\n",
              "      <th>2</th>\n",
              "      <td>images/ds10_pexels-photo-850708.png</td>\n",
              "      <td>masks/ds10_pexels-photo-850708.png</td>\n",
              "    </tr>\n",
              "  </tbody>\n",
              "</table>\n",
              "</div>\n",
              "    <div class=\"colab-df-buttons\">\n",
              "\n",
              "  <div class=\"colab-df-container\">\n",
              "    <button class=\"colab-df-convert\" onclick=\"convertToInteractive('df-3a2b39f5-22bd-4f27-a8d4-05b9cf0fd176')\"\n",
              "            title=\"Convert this dataframe to an interactive table.\"\n",
              "            style=\"display:none;\">\n",
              "\n",
              "  <svg xmlns=\"http://www.w3.org/2000/svg\" height=\"24px\" viewBox=\"0 -960 960 960\">\n",
              "    <path d=\"M120-120v-720h720v720H120Zm60-500h600v-160H180v160Zm220 220h160v-160H400v160Zm0 220h160v-160H400v160ZM180-400h160v-160H180v160Zm440 0h160v-160H620v160ZM180-180h160v-160H180v160Zm440 0h160v-160H620v160Z\"/>\n",
              "  </svg>\n",
              "    </button>\n",
              "\n",
              "  <style>\n",
              "    .colab-df-container {\n",
              "      display:flex;\n",
              "      gap: 12px;\n",
              "    }\n",
              "\n",
              "    .colab-df-convert {\n",
              "      background-color: #E8F0FE;\n",
              "      border: none;\n",
              "      border-radius: 50%;\n",
              "      cursor: pointer;\n",
              "      display: none;\n",
              "      fill: #1967D2;\n",
              "      height: 32px;\n",
              "      padding: 0 0 0 0;\n",
              "      width: 32px;\n",
              "    }\n",
              "\n",
              "    .colab-df-convert:hover {\n",
              "      background-color: #E2EBFA;\n",
              "      box-shadow: 0px 1px 2px rgba(60, 64, 67, 0.3), 0px 1px 3px 1px rgba(60, 64, 67, 0.15);\n",
              "      fill: #174EA6;\n",
              "    }\n",
              "\n",
              "    .colab-df-buttons div {\n",
              "      margin-bottom: 4px;\n",
              "    }\n",
              "\n",
              "    [theme=dark] .colab-df-convert {\n",
              "      background-color: #3B4455;\n",
              "      fill: #D2E3FC;\n",
              "    }\n",
              "\n",
              "    [theme=dark] .colab-df-convert:hover {\n",
              "      background-color: #434B5C;\n",
              "      box-shadow: 0px 1px 3px 1px rgba(0, 0, 0, 0.15);\n",
              "      filter: drop-shadow(0px 1px 2px rgba(0, 0, 0, 0.3));\n",
              "      fill: #FFFFFF;\n",
              "    }\n",
              "  </style>\n",
              "\n",
              "    <script>\n",
              "      const buttonEl =\n",
              "        document.querySelector('#df-3a2b39f5-22bd-4f27-a8d4-05b9cf0fd176 button.colab-df-convert');\n",
              "      buttonEl.style.display =\n",
              "        google.colab.kernel.accessAllowed ? 'block' : 'none';\n",
              "\n",
              "      async function convertToInteractive(key) {\n",
              "        const element = document.querySelector('#df-3a2b39f5-22bd-4f27-a8d4-05b9cf0fd176');\n",
              "        const dataTable =\n",
              "          await google.colab.kernel.invokeFunction('convertToInteractive',\n",
              "                                                    [key], {});\n",
              "        if (!dataTable) return;\n",
              "\n",
              "        const docLinkHtml = 'Like what you see? Visit the ' +\n",
              "          '<a target=\"_blank\" href=https://colab.research.google.com/notebooks/data_table.ipynb>data table notebook</a>'\n",
              "          + ' to learn more about interactive tables.';\n",
              "        element.innerHTML = '';\n",
              "        dataTable['output_type'] = 'display_data';\n",
              "        await google.colab.output.renderOutput(dataTable, element);\n",
              "        const docLink = document.createElement('div');\n",
              "        docLink.innerHTML = docLinkHtml;\n",
              "        element.appendChild(docLink);\n",
              "      }\n",
              "    </script>\n",
              "  </div>\n",
              "\n",
              "\n",
              "<div id=\"df-bed0a0d6-0456-4642-848e-403c1d4c0994\">\n",
              "  <button class=\"colab-df-quickchart\" onclick=\"quickchart('df-bed0a0d6-0456-4642-848e-403c1d4c0994')\"\n",
              "            title=\"Suggest charts\"\n",
              "            style=\"display:none;\">\n",
              "\n",
              "<svg xmlns=\"http://www.w3.org/2000/svg\" height=\"24px\"viewBox=\"0 0 24 24\"\n",
              "     width=\"24px\">\n",
              "    <g>\n",
              "        <path d=\"M19 3H5c-1.1 0-2 .9-2 2v14c0 1.1.9 2 2 2h14c1.1 0 2-.9 2-2V5c0-1.1-.9-2-2-2zM9 17H7v-7h2v7zm4 0h-2V7h2v10zm4 0h-2v-4h2v4z\"/>\n",
              "    </g>\n",
              "</svg>\n",
              "  </button>\n",
              "\n",
              "<style>\n",
              "  .colab-df-quickchart {\n",
              "      --bg-color: #E8F0FE;\n",
              "      --fill-color: #1967D2;\n",
              "      --hover-bg-color: #E2EBFA;\n",
              "      --hover-fill-color: #174EA6;\n",
              "      --disabled-fill-color: #AAA;\n",
              "      --disabled-bg-color: #DDD;\n",
              "  }\n",
              "\n",
              "  [theme=dark] .colab-df-quickchart {\n",
              "      --bg-color: #3B4455;\n",
              "      --fill-color: #D2E3FC;\n",
              "      --hover-bg-color: #434B5C;\n",
              "      --hover-fill-color: #FFFFFF;\n",
              "      --disabled-bg-color: #3B4455;\n",
              "      --disabled-fill-color: #666;\n",
              "  }\n",
              "\n",
              "  .colab-df-quickchart {\n",
              "    background-color: var(--bg-color);\n",
              "    border: none;\n",
              "    border-radius: 50%;\n",
              "    cursor: pointer;\n",
              "    display: none;\n",
              "    fill: var(--fill-color);\n",
              "    height: 32px;\n",
              "    padding: 0;\n",
              "    width: 32px;\n",
              "  }\n",
              "\n",
              "  .colab-df-quickchart:hover {\n",
              "    background-color: var(--hover-bg-color);\n",
              "    box-shadow: 0 1px 2px rgba(60, 64, 67, 0.3), 0 1px 3px 1px rgba(60, 64, 67, 0.15);\n",
              "    fill: var(--button-hover-fill-color);\n",
              "  }\n",
              "\n",
              "  .colab-df-quickchart-complete:disabled,\n",
              "  .colab-df-quickchart-complete:disabled:hover {\n",
              "    background-color: var(--disabled-bg-color);\n",
              "    fill: var(--disabled-fill-color);\n",
              "    box-shadow: none;\n",
              "  }\n",
              "\n",
              "  .colab-df-spinner {\n",
              "    border: 2px solid var(--fill-color);\n",
              "    border-color: transparent;\n",
              "    border-bottom-color: var(--fill-color);\n",
              "    animation:\n",
              "      spin 1s steps(1) infinite;\n",
              "  }\n",
              "\n",
              "  @keyframes spin {\n",
              "    0% {\n",
              "      border-color: transparent;\n",
              "      border-bottom-color: var(--fill-color);\n",
              "      border-left-color: var(--fill-color);\n",
              "    }\n",
              "    20% {\n",
              "      border-color: transparent;\n",
              "      border-left-color: var(--fill-color);\n",
              "      border-top-color: var(--fill-color);\n",
              "    }\n",
              "    30% {\n",
              "      border-color: transparent;\n",
              "      border-left-color: var(--fill-color);\n",
              "      border-top-color: var(--fill-color);\n",
              "      border-right-color: var(--fill-color);\n",
              "    }\n",
              "    40% {\n",
              "      border-color: transparent;\n",
              "      border-right-color: var(--fill-color);\n",
              "      border-top-color: var(--fill-color);\n",
              "    }\n",
              "    60% {\n",
              "      border-color: transparent;\n",
              "      border-right-color: var(--fill-color);\n",
              "    }\n",
              "    80% {\n",
              "      border-color: transparent;\n",
              "      border-right-color: var(--fill-color);\n",
              "      border-bottom-color: var(--fill-color);\n",
              "    }\n",
              "    90% {\n",
              "      border-color: transparent;\n",
              "      border-bottom-color: var(--fill-color);\n",
              "    }\n",
              "  }\n",
              "</style>\n",
              "\n",
              "  <script>\n",
              "    async function quickchart(key) {\n",
              "      const quickchartButtonEl =\n",
              "        document.querySelector('#' + key + ' button');\n",
              "      quickchartButtonEl.disabled = true;  // To prevent multiple clicks.\n",
              "      quickchartButtonEl.classList.add('colab-df-spinner');\n",
              "      try {\n",
              "        const charts = await google.colab.kernel.invokeFunction(\n",
              "            'suggestCharts', [key], {});\n",
              "      } catch (error) {\n",
              "        console.error('Error during call to suggestCharts:', error);\n",
              "      }\n",
              "      quickchartButtonEl.classList.remove('colab-df-spinner');\n",
              "      quickchartButtonEl.classList.add('colab-df-quickchart-complete');\n",
              "    }\n",
              "    (() => {\n",
              "      let quickchartButtonEl =\n",
              "        document.querySelector('#df-bed0a0d6-0456-4642-848e-403c1d4c0994 button');\n",
              "      quickchartButtonEl.style.display =\n",
              "        google.colab.kernel.accessAllowed ? 'block' : 'none';\n",
              "    })();\n",
              "  </script>\n",
              "</div>\n",
              "\n",
              "    </div>\n",
              "  </div>\n"
            ]
          },
          "metadata": {},
          "execution_count": 4
        }
      ]
    },
    {
      "cell_type": "code",
      "source": [
        "df.shape"
      ],
      "metadata": {
        "colab": {
          "base_uri": "https://localhost:8080/"
        },
        "id": "7zm6x9ufYgsJ",
        "outputId": "f158145e-5077-46da-f14f-c57d7b2a0c82"
      },
      "execution_count": 5,
      "outputs": [
        {
          "output_type": "execute_result",
          "data": {
            "text/plain": [
              "(2667, 2)"
            ]
          },
          "metadata": {},
          "execution_count": 5
        }
      ]
    },
    {
      "cell_type": "code",
      "source": [
        "def extract_ds_id(x):\n",
        "  return x.split(\"/\")[1].split(\"_\")[0]\n",
        "\n",
        "def extract_class(x):\n",
        "  return x.split('_')[1].split('.png')[0]\n",
        "\n",
        "df['ds_id'] = df['images'].apply(lambda x:extract_ds_id(x))\n",
        "df['image_classes'] = df['images'].apply(lambda x:extract_class(x))"
      ],
      "metadata": {
        "colab": {
          "base_uri": "https://localhost:8080/"
        },
        "id": "gstxSRtZYrJX",
        "outputId": "a23a5a0e-be82-4335-830f-27ae59b29ce6"
      },
      "execution_count": 6,
      "outputs": [
        {
          "output_type": "stream",
          "name": "stderr",
          "text": [
            "<ipython-input-6-e98143bb8e25>:7: SettingWithCopyWarning: \n",
            "A value is trying to be set on a copy of a slice from a DataFrame.\n",
            "Try using .loc[row_indexer,col_indexer] = value instead\n",
            "\n",
            "See the caveats in the documentation: https://pandas.pydata.org/pandas-docs/stable/user_guide/indexing.html#returning-a-view-versus-a-copy\n",
            "  df['ds_id'] = df['images'].apply(lambda x:extract_ds_id(x))\n"
          ]
        }
      ]
    },
    {
      "cell_type": "code",
      "source": [
        "df.head(3)"
      ],
      "metadata": {
        "colab": {
          "base_uri": "https://localhost:8080/",
          "height": 143
        },
        "id": "ojvbcWd20fR6",
        "outputId": "1de43019-bdd4-4483-caf0-4aed682b18fc"
      },
      "execution_count": 7,
      "outputs": [
        {
          "output_type": "execute_result",
          "data": {
            "text/plain": [
              "                                images                               masks  \\\n",
              "0  images/ds10_pexels-photo-687782.png  masks/ds10_pexels-photo-687782.png   \n",
              "1  images/ds10_pexels-photo-835971.png  masks/ds10_pexels-photo-835971.png   \n",
              "2  images/ds10_pexels-photo-850708.png  masks/ds10_pexels-photo-850708.png   \n",
              "\n",
              "  ds_id        image_classes  \n",
              "0  ds10  pexels-photo-687782  \n",
              "1  ds10  pexels-photo-835971  \n",
              "2  ds10  pexels-photo-850708  "
            ],
            "text/html": [
              "\n",
              "  <div id=\"df-e3bf55c0-c0e5-455c-989c-82f9dd4ae279\" class=\"colab-df-container\">\n",
              "    <div>\n",
              "<style scoped>\n",
              "    .dataframe tbody tr th:only-of-type {\n",
              "        vertical-align: middle;\n",
              "    }\n",
              "\n",
              "    .dataframe tbody tr th {\n",
              "        vertical-align: top;\n",
              "    }\n",
              "\n",
              "    .dataframe thead th {\n",
              "        text-align: right;\n",
              "    }\n",
              "</style>\n",
              "<table border=\"1\" class=\"dataframe\">\n",
              "  <thead>\n",
              "    <tr style=\"text-align: right;\">\n",
              "      <th></th>\n",
              "      <th>images</th>\n",
              "      <th>masks</th>\n",
              "      <th>ds_id</th>\n",
              "      <th>image_classes</th>\n",
              "    </tr>\n",
              "  </thead>\n",
              "  <tbody>\n",
              "    <tr>\n",
              "      <th>0</th>\n",
              "      <td>images/ds10_pexels-photo-687782.png</td>\n",
              "      <td>masks/ds10_pexels-photo-687782.png</td>\n",
              "      <td>ds10</td>\n",
              "      <td>pexels-photo-687782</td>\n",
              "    </tr>\n",
              "    <tr>\n",
              "      <th>1</th>\n",
              "      <td>images/ds10_pexels-photo-835971.png</td>\n",
              "      <td>masks/ds10_pexels-photo-835971.png</td>\n",
              "      <td>ds10</td>\n",
              "      <td>pexels-photo-835971</td>\n",
              "    </tr>\n",
              "    <tr>\n",
              "      <th>2</th>\n",
              "      <td>images/ds10_pexels-photo-850708.png</td>\n",
              "      <td>masks/ds10_pexels-photo-850708.png</td>\n",
              "      <td>ds10</td>\n",
              "      <td>pexels-photo-850708</td>\n",
              "    </tr>\n",
              "  </tbody>\n",
              "</table>\n",
              "</div>\n",
              "    <div class=\"colab-df-buttons\">\n",
              "\n",
              "  <div class=\"colab-df-container\">\n",
              "    <button class=\"colab-df-convert\" onclick=\"convertToInteractive('df-e3bf55c0-c0e5-455c-989c-82f9dd4ae279')\"\n",
              "            title=\"Convert this dataframe to an interactive table.\"\n",
              "            style=\"display:none;\">\n",
              "\n",
              "  <svg xmlns=\"http://www.w3.org/2000/svg\" height=\"24px\" viewBox=\"0 -960 960 960\">\n",
              "    <path d=\"M120-120v-720h720v720H120Zm60-500h600v-160H180v160Zm220 220h160v-160H400v160Zm0 220h160v-160H400v160ZM180-400h160v-160H180v160Zm440 0h160v-160H620v160ZM180-180h160v-160H180v160Zm440 0h160v-160H620v160Z\"/>\n",
              "  </svg>\n",
              "    </button>\n",
              "\n",
              "  <style>\n",
              "    .colab-df-container {\n",
              "      display:flex;\n",
              "      gap: 12px;\n",
              "    }\n",
              "\n",
              "    .colab-df-convert {\n",
              "      background-color: #E8F0FE;\n",
              "      border: none;\n",
              "      border-radius: 50%;\n",
              "      cursor: pointer;\n",
              "      display: none;\n",
              "      fill: #1967D2;\n",
              "      height: 32px;\n",
              "      padding: 0 0 0 0;\n",
              "      width: 32px;\n",
              "    }\n",
              "\n",
              "    .colab-df-convert:hover {\n",
              "      background-color: #E2EBFA;\n",
              "      box-shadow: 0px 1px 2px rgba(60, 64, 67, 0.3), 0px 1px 3px 1px rgba(60, 64, 67, 0.15);\n",
              "      fill: #174EA6;\n",
              "    }\n",
              "\n",
              "    .colab-df-buttons div {\n",
              "      margin-bottom: 4px;\n",
              "    }\n",
              "\n",
              "    [theme=dark] .colab-df-convert {\n",
              "      background-color: #3B4455;\n",
              "      fill: #D2E3FC;\n",
              "    }\n",
              "\n",
              "    [theme=dark] .colab-df-convert:hover {\n",
              "      background-color: #434B5C;\n",
              "      box-shadow: 0px 1px 3px 1px rgba(0, 0, 0, 0.15);\n",
              "      filter: drop-shadow(0px 1px 2px rgba(0, 0, 0, 0.3));\n",
              "      fill: #FFFFFF;\n",
              "    }\n",
              "  </style>\n",
              "\n",
              "    <script>\n",
              "      const buttonEl =\n",
              "        document.querySelector('#df-e3bf55c0-c0e5-455c-989c-82f9dd4ae279 button.colab-df-convert');\n",
              "      buttonEl.style.display =\n",
              "        google.colab.kernel.accessAllowed ? 'block' : 'none';\n",
              "\n",
              "      async function convertToInteractive(key) {\n",
              "        const element = document.querySelector('#df-e3bf55c0-c0e5-455c-989c-82f9dd4ae279');\n",
              "        const dataTable =\n",
              "          await google.colab.kernel.invokeFunction('convertToInteractive',\n",
              "                                                    [key], {});\n",
              "        if (!dataTable) return;\n",
              "\n",
              "        const docLinkHtml = 'Like what you see? Visit the ' +\n",
              "          '<a target=\"_blank\" href=https://colab.research.google.com/notebooks/data_table.ipynb>data table notebook</a>'\n",
              "          + ' to learn more about interactive tables.';\n",
              "        element.innerHTML = '';\n",
              "        dataTable['output_type'] = 'display_data';\n",
              "        await google.colab.output.renderOutput(dataTable, element);\n",
              "        const docLink = document.createElement('div');\n",
              "        docLink.innerHTML = docLinkHtml;\n",
              "        element.appendChild(docLink);\n",
              "      }\n",
              "    </script>\n",
              "  </div>\n",
              "\n",
              "\n",
              "<div id=\"df-db7de7c0-551c-4cae-a43d-bbe0395625e1\">\n",
              "  <button class=\"colab-df-quickchart\" onclick=\"quickchart('df-db7de7c0-551c-4cae-a43d-bbe0395625e1')\"\n",
              "            title=\"Suggest charts\"\n",
              "            style=\"display:none;\">\n",
              "\n",
              "<svg xmlns=\"http://www.w3.org/2000/svg\" height=\"24px\"viewBox=\"0 0 24 24\"\n",
              "     width=\"24px\">\n",
              "    <g>\n",
              "        <path d=\"M19 3H5c-1.1 0-2 .9-2 2v14c0 1.1.9 2 2 2h14c1.1 0 2-.9 2-2V5c0-1.1-.9-2-2-2zM9 17H7v-7h2v7zm4 0h-2V7h2v10zm4 0h-2v-4h2v4z\"/>\n",
              "    </g>\n",
              "</svg>\n",
              "  </button>\n",
              "\n",
              "<style>\n",
              "  .colab-df-quickchart {\n",
              "      --bg-color: #E8F0FE;\n",
              "      --fill-color: #1967D2;\n",
              "      --hover-bg-color: #E2EBFA;\n",
              "      --hover-fill-color: #174EA6;\n",
              "      --disabled-fill-color: #AAA;\n",
              "      --disabled-bg-color: #DDD;\n",
              "  }\n",
              "\n",
              "  [theme=dark] .colab-df-quickchart {\n",
              "      --bg-color: #3B4455;\n",
              "      --fill-color: #D2E3FC;\n",
              "      --hover-bg-color: #434B5C;\n",
              "      --hover-fill-color: #FFFFFF;\n",
              "      --disabled-bg-color: #3B4455;\n",
              "      --disabled-fill-color: #666;\n",
              "  }\n",
              "\n",
              "  .colab-df-quickchart {\n",
              "    background-color: var(--bg-color);\n",
              "    border: none;\n",
              "    border-radius: 50%;\n",
              "    cursor: pointer;\n",
              "    display: none;\n",
              "    fill: var(--fill-color);\n",
              "    height: 32px;\n",
              "    padding: 0;\n",
              "    width: 32px;\n",
              "  }\n",
              "\n",
              "  .colab-df-quickchart:hover {\n",
              "    background-color: var(--hover-bg-color);\n",
              "    box-shadow: 0 1px 2px rgba(60, 64, 67, 0.3), 0 1px 3px 1px rgba(60, 64, 67, 0.15);\n",
              "    fill: var(--button-hover-fill-color);\n",
              "  }\n",
              "\n",
              "  .colab-df-quickchart-complete:disabled,\n",
              "  .colab-df-quickchart-complete:disabled:hover {\n",
              "    background-color: var(--disabled-bg-color);\n",
              "    fill: var(--disabled-fill-color);\n",
              "    box-shadow: none;\n",
              "  }\n",
              "\n",
              "  .colab-df-spinner {\n",
              "    border: 2px solid var(--fill-color);\n",
              "    border-color: transparent;\n",
              "    border-bottom-color: var(--fill-color);\n",
              "    animation:\n",
              "      spin 1s steps(1) infinite;\n",
              "  }\n",
              "\n",
              "  @keyframes spin {\n",
              "    0% {\n",
              "      border-color: transparent;\n",
              "      border-bottom-color: var(--fill-color);\n",
              "      border-left-color: var(--fill-color);\n",
              "    }\n",
              "    20% {\n",
              "      border-color: transparent;\n",
              "      border-left-color: var(--fill-color);\n",
              "      border-top-color: var(--fill-color);\n",
              "    }\n",
              "    30% {\n",
              "      border-color: transparent;\n",
              "      border-left-color: var(--fill-color);\n",
              "      border-top-color: var(--fill-color);\n",
              "      border-right-color: var(--fill-color);\n",
              "    }\n",
              "    40% {\n",
              "      border-color: transparent;\n",
              "      border-right-color: var(--fill-color);\n",
              "      border-top-color: var(--fill-color);\n",
              "    }\n",
              "    60% {\n",
              "      border-color: transparent;\n",
              "      border-right-color: var(--fill-color);\n",
              "    }\n",
              "    80% {\n",
              "      border-color: transparent;\n",
              "      border-right-color: var(--fill-color);\n",
              "      border-bottom-color: var(--fill-color);\n",
              "    }\n",
              "    90% {\n",
              "      border-color: transparent;\n",
              "      border-bottom-color: var(--fill-color);\n",
              "    }\n",
              "  }\n",
              "</style>\n",
              "\n",
              "  <script>\n",
              "    async function quickchart(key) {\n",
              "      const quickchartButtonEl =\n",
              "        document.querySelector('#' + key + ' button');\n",
              "      quickchartButtonEl.disabled = true;  // To prevent multiple clicks.\n",
              "      quickchartButtonEl.classList.add('colab-df-spinner');\n",
              "      try {\n",
              "        const charts = await google.colab.kernel.invokeFunction(\n",
              "            'suggestCharts', [key], {});\n",
              "      } catch (error) {\n",
              "        console.error('Error during call to suggestCharts:', error);\n",
              "      }\n",
              "      quickchartButtonEl.classList.remove('colab-df-spinner');\n",
              "      quickchartButtonEl.classList.add('colab-df-quickchart-complete');\n",
              "    }\n",
              "    (() => {\n",
              "      let quickchartButtonEl =\n",
              "        document.querySelector('#df-db7de7c0-551c-4cae-a43d-bbe0395625e1 button');\n",
              "      quickchartButtonEl.style.display =\n",
              "        google.colab.kernel.accessAllowed ? 'block' : 'none';\n",
              "    })();\n",
              "  </script>\n",
              "</div>\n",
              "\n",
              "    </div>\n",
              "  </div>\n"
            ]
          },
          "metadata": {},
          "execution_count": 7
        }
      ]
    },
    {
      "cell_type": "code",
      "source": [
        "hue_name = ['ds1','ds2','ds3','ds4','ds5','ds6','ds7','ds8','ds9','ds10','ds11','ds12','ds13']\n",
        "sns.countplot(df['ds_id'],order=hue_name)"
      ],
      "metadata": {
        "colab": {
          "base_uri": "https://localhost:8080/",
          "height": 466
        },
        "id": "1CwydV81dodT",
        "outputId": "6a1e10ee-33b4-4ca3-ae81-902fff27ca42"
      },
      "execution_count": 8,
      "outputs": [
        {
          "output_type": "execute_result",
          "data": {
            "text/plain": [
              "<Axes: xlabel='count', ylabel='ds_id'>"
            ]
          },
          "metadata": {},
          "execution_count": 8
        },
        {
          "output_type": "display_data",
          "data": {
            "text/plain": [
              "<Figure size 640x480 with 1 Axes>"
            ],
            "image/png": "[encoded data removed]"
          },
          "metadata": {}
        }
      ]
    },
    {
      "cell_type": "markdown",
      "source": [
        "- 정확히 모든 class를 함축하진 않지만 대략적 파악을 위해 전처리\n",
        "- '-'를 통해 클래스 구분되어 있고, 일부는 같은 클래스를 포함하고 있음\n",
        "- 수식하는 표현이 포함되어 주의\n",
        "- 리스트를 통한 클래스 추출 및 count도 가능할 것"
      ],
      "metadata": {
        "id": "MQLHZ0_Th31J"
      }
    },
    {
      "cell_type": "code",
      "source": [
        "import re\n",
        "\n",
        "def no_number_class(x):\n",
        "  x = x.split('_')[1]\n",
        "  x = x.split('.png')[0]\n",
        "  x = re.sub(r'\\d','',x)\n",
        "  x = x[:-1]\n",
        "  return x\n",
        "\n",
        "df['no_num_classes'] = df['images'].apply(lambda x:no_number_class(x))\n",
        "df.head(3)"
      ],
      "metadata": {
        "colab": {
          "base_uri": "https://localhost:8080/",
          "height": 196
        },
        "id": "bWX6kgS2eSdd",
        "outputId": "07c262c7-6fc8-43d7-aa98-609b61c4cce4"
      },
      "execution_count": 9,
      "outputs": [
        {
          "output_type": "execute_result",
          "data": {
            "text/plain": [
              "                                images                               masks  \\\n",
              "0  images/ds10_pexels-photo-687782.png  masks/ds10_pexels-photo-687782.png   \n",
              "1  images/ds10_pexels-photo-835971.png  masks/ds10_pexels-photo-835971.png   \n",
              "2  images/ds10_pexels-photo-850708.png  masks/ds10_pexels-photo-850708.png   \n",
              "\n",
              "  ds_id        image_classes no_num_classes  \n",
              "0  ds10  pexels-photo-687782   pexels-photo  \n",
              "1  ds10  pexels-photo-835971   pexels-photo  \n",
              "2  ds10  pexels-photo-850708   pexels-photo  "
            ],
            "text/html": [
              "\n",
              "  <div id=\"df-c28d8132-b540-46aa-aed7-a57f6abe49f3\" class=\"colab-df-container\">\n",
              "    <div>\n",
              "<style scoped>\n",
              "    .dataframe tbody tr th:only-of-type {\n",
              "        vertical-align: middle;\n",
              "    }\n",
              "\n",
              "    .dataframe tbody tr th {\n",
              "        vertical-align: top;\n",
              "    }\n",
              "\n",
              "    .dataframe thead th {\n",
              "        text-align: right;\n",
              "    }\n",
              "</style>\n",
              "<table border=\"1\" class=\"dataframe\">\n",
              "  <thead>\n",
              "    <tr style=\"text-align: right;\">\n",
              "      <th></th>\n",
              "      <th>images</th>\n",
              "      <th>masks</th>\n",
              "      <th>ds_id</th>\n",
              "      <th>image_classes</th>\n",
              "      <th>no_num_classes</th>\n",
              "    </tr>\n",
              "  </thead>\n",
              "  <tbody>\n",
              "    <tr>\n",
              "      <th>0</th>\n",
              "      <td>images/ds10_pexels-photo-687782.png</td>\n",
              "      <td>masks/ds10_pexels-photo-687782.png</td>\n",
              "      <td>ds10</td>\n",
              "      <td>pexels-photo-687782</td>\n",
              "      <td>pexels-photo</td>\n",
              "    </tr>\n",
              "    <tr>\n",
              "      <th>1</th>\n",
              "      <td>images/ds10_pexels-photo-835971.png</td>\n",
              "      <td>masks/ds10_pexels-photo-835971.png</td>\n",
              "      <td>ds10</td>\n",
              "      <td>pexels-photo-835971</td>\n",
              "      <td>pexels-photo</td>\n",
              "    </tr>\n",
              "    <tr>\n",
              "      <th>2</th>\n",
              "      <td>images/ds10_pexels-photo-850708.png</td>\n",
              "      <td>masks/ds10_pexels-photo-850708.png</td>\n",
              "      <td>ds10</td>\n",
              "      <td>pexels-photo-850708</td>\n",
              "      <td>pexels-photo</td>\n",
              "    </tr>\n",
              "  </tbody>\n",
              "</table>\n",
              "</div>\n",
              "    <div class=\"colab-df-buttons\">\n",
              "\n",
              "  <div class=\"colab-df-container\">\n",
              "    <button class=\"colab-df-convert\" onclick=\"convertToInteractive('df-c28d8132-b540-46aa-aed7-a57f6abe49f3')\"\n",
              "            title=\"Convert this dataframe to an interactive table.\"\n",
              "            style=\"display:none;\">\n",
              "\n",
              "  <svg xmlns=\"http://www.w3.org/2000/svg\" height=\"24px\" viewBox=\"0 -960 960 960\">\n",
              "    <path d=\"M120-120v-720h720v720H120Zm60-500h600v-160H180v160Zm220 220h160v-160H400v160Zm0 220h160v-160H400v160ZM180-400h160v-160H180v160Zm440 0h160v-160H620v160ZM180-180h160v-160H180v160Zm440 0h160v-160H620v160Z\"/>\n",
              "  </svg>\n",
              "    </button>\n",
              "\n",
              "  <style>\n",
              "    .colab-df-container {\n",
              "      display:flex;\n",
              "      gap: 12px;\n",
              "    }\n",
              "\n",
              "    .colab-df-convert {\n",
              "      background-color: #E8F0FE;\n",
              "      border: none;\n",
              "      border-radius: 50%;\n",
              "      cursor: pointer;\n",
              "      display: none;\n",
              "      fill: #1967D2;\n",
              "      height: 32px;\n",
              "      padding: 0 0 0 0;\n",
              "      width: 32px;\n",
              "    }\n",
              "\n",
              "    .colab-df-convert:hover {\n",
              "      background-color: #E2EBFA;\n",
              "      box-shadow: 0px 1px 2px rgba(60, 64, 67, 0.3), 0px 1px 3px 1px rgba(60, 64, 67, 0.15);\n",
              "      fill: #174EA6;\n",
              "    }\n",
              "\n",
              "    .colab-df-buttons div {\n",
              "      margin-bottom: 4px;\n",
              "    }\n",
              "\n",
              "    [theme=dark] .colab-df-convert {\n",
              "      background-color: #3B4455;\n",
              "      fill: #D2E3FC;\n",
              "    }\n",
              "\n",
              "    [theme=dark] .colab-df-convert:hover {\n",
              "      background-color: #434B5C;\n",
              "      box-shadow: 0px 1px 3px 1px rgba(0, 0, 0, 0.15);\n",
              "      filter: drop-shadow(0px 1px 2px rgba(0, 0, 0, 0.3));\n",
              "      fill: #FFFFFF;\n",
              "    }\n",
              "  </style>\n",
              "\n",
              "    <script>\n",
              "      const buttonEl =\n",
              "        document.querySelector('#df-c28d8132-b540-46aa-aed7-a57f6abe49f3 button.colab-df-convert');\n",
              "      buttonEl.style.display =\n",
              "        google.colab.kernel.accessAllowed ? 'block' : 'none';\n",
              "\n",
              "      async function convertToInteractive(key) {\n",
              "        const element = document.querySelector('#df-c28d8132-b540-46aa-aed7-a57f6abe49f3');\n",
              "        const dataTable =\n",
              "          await google.colab.kernel.invokeFunction('convertToInteractive',\n",
              "                                                    [key], {});\n",
              "        if (!dataTable) return;\n",
              "\n",
              "        const docLinkHtml = 'Like what you see? Visit the ' +\n",
              "          '<a target=\"_blank\" href=https://colab.research.google.com/notebooks/data_table.ipynb>data table notebook</a>'\n",
              "          + ' to learn more about interactive tables.';\n",
              "        element.innerHTML = '';\n",
              "        dataTable['output_type'] = 'display_data';\n",
              "        await google.colab.output.renderOutput(dataTable, element);\n",
              "        const docLink = document.createElement('div');\n",
              "        docLink.innerHTML = docLinkHtml;\n",
              "        element.appendChild(docLink);\n",
              "      }\n",
              "    </script>\n",
              "  </div>\n",
              "\n",
              "\n",
              "<div id=\"df-06c17b96-61f8-41e6-abd9-7d8407cbff08\">\n",
              "  <button class=\"colab-df-quickchart\" onclick=\"quickchart('df-06c17b96-61f8-41e6-abd9-7d8407cbff08')\"\n",
              "            title=\"Suggest charts\"\n",
              "            style=\"display:none;\">\n",
              "\n",
              "<svg xmlns=\"http://www.w3.org/2000/svg\" height=\"24px\"viewBox=\"0 0 24 24\"\n",
              "     width=\"24px\">\n",
              "    <g>\n",
              "        <path d=\"M19 3H5c-1.1 0-2 .9-2 2v14c0 1.1.9 2 2 2h14c1.1 0 2-.9 2-2V5c0-1.1-.9-2-2-2zM9 17H7v-7h2v7zm4 0h-2V7h2v10zm4 0h-2v-4h2v4z\"/>\n",
              "    </g>\n",
              "</svg>\n",
              "  </button>\n",
              "\n",
              "<style>\n",
              "  .colab-df-quickchart {\n",
              "      --bg-color: #E8F0FE;\n",
              "      --fill-color: #1967D2;\n",
              "      --hover-bg-color: #E2EBFA;\n",
              "      --hover-fill-color: #174EA6;\n",
              "      --disabled-fill-color: #AAA;\n",
              "      --disabled-bg-color: #DDD;\n",
              "  }\n",
              "\n",
              "  [theme=dark] .colab-df-quickchart {\n",
              "      --bg-color: #3B4455;\n",
              "      --fill-color: #D2E3FC;\n",
              "      --hover-bg-color: #434B5C;\n",
              "      --hover-fill-color: #FFFFFF;\n",
              "      --disabled-bg-color: #3B4455;\n",
              "      --disabled-fill-color: #666;\n",
              "  }\n",
              "\n",
              "  .colab-df-quickchart {\n",
              "    background-color: var(--bg-color);\n",
              "    border: none;\n",
              "    border-radius: 50%;\n",
              "    cursor: pointer;\n",
              "    display: none;\n",
              "    fill: var(--fill-color);\n",
              "    height: 32px;\n",
              "    padding: 0;\n",
              "    width: 32px;\n",
              "  }\n",
              "\n",
              "  .colab-df-quickchart:hover {\n",
              "    background-color: var(--hover-bg-color);\n",
              "    box-shadow: 0 1px 2px rgba(60, 64, 67, 0.3), 0 1px 3px 1px rgba(60, 64, 67, 0.15);\n",
              "    fill: var(--button-hover-fill-color);\n",
              "  }\n",
              "\n",
              "  .colab-df-quickchart-complete:disabled,\n",
              "  .colab-df-quickchart-complete:disabled:hover {\n",
              "    background-color: var(--disabled-bg-color);\n",
              "    fill: var(--disabled-fill-color);\n",
              "    box-shadow: none;\n",
              "  }\n",
              "\n",
              "  .colab-df-spinner {\n",
              "    border: 2px solid var(--fill-color);\n",
              "    border-color: transparent;\n",
              "    border-bottom-color: var(--fill-color);\n",
              "    animation:\n",
              "      spin 1s steps(1) infinite;\n",
              "  }\n",
              "\n",
              "  @keyframes spin {\n",
              "    0% {\n",
              "      border-color: transparent;\n",
              "      border-bottom-color: var(--fill-color);\n",
              "      border-left-color: var(--fill-color);\n",
              "    }\n",
              "    20% {\n",
              "      border-color: transparent;\n",
              "      border-left-color: var(--fill-color);\n",
              "      border-top-color: var(--fill-color);\n",
              "    }\n",
              "    30% {\n",
              "      border-color: transparent;\n",
              "      border-left-color: var(--fill-color);\n",
              "      border-top-color: var(--fill-color);\n",
              "      border-right-color: var(--fill-color);\n",
              "    }\n",
              "    40% {\n",
              "      border-color: transparent;\n",
              "      border-right-color: var(--fill-color);\n",
              "      border-top-color: var(--fill-color);\n",
              "    }\n",
              "    60% {\n",
              "      border-color: transparent;\n",
              "      border-right-color: var(--fill-color);\n",
              "    }\n",
              "    80% {\n",
              "      border-color: transparent;\n",
              "      border-right-color: var(--fill-color);\n",
              "      border-bottom-color: var(--fill-color);\n",
              "    }\n",
              "    90% {\n",
              "      border-color: transparent;\n",
              "      border-bottom-color: var(--fill-color);\n",
              "    }\n",
              "  }\n",
              "</style>\n",
              "\n",
              "  <script>\n",
              "    async function quickchart(key) {\n",
              "      const quickchartButtonEl =\n",
              "        document.querySelector('#' + key + ' button');\n",
              "      quickchartButtonEl.disabled = true;  // To prevent multiple clicks.\n",
              "      quickchartButtonEl.classList.add('colab-df-spinner');\n",
              "      try {\n",
              "        const charts = await google.colab.kernel.invokeFunction(\n",
              "            'suggestCharts', [key], {});\n",
              "      } catch (error) {\n",
              "        console.error('Error during call to suggestCharts:', error);\n",
              "      }\n",
              "      quickchartButtonEl.classList.remove('colab-df-spinner');\n",
              "      quickchartButtonEl.classList.add('colab-df-quickchart-complete');\n",
              "    }\n",
              "    (() => {\n",
              "      let quickchartButtonEl =\n",
              "        document.querySelector('#df-06c17b96-61f8-41e6-abd9-7d8407cbff08 button');\n",
              "      quickchartButtonEl.style.display =\n",
              "        google.colab.kernel.accessAllowed ? 'block' : 'none';\n",
              "    })();\n",
              "  </script>\n",
              "</div>\n",
              "\n",
              "    </div>\n",
              "  </div>\n"
            ]
          },
          "metadata": {},
          "execution_count": 9
        }
      ]
    },
    {
      "cell_type": "code",
      "source": [
        "df.ds_id.value_counts()"
      ],
      "metadata": {
        "colab": {
          "base_uri": "https://localhost:8080/"
        },
        "id": "j6CNDMpIqPRk",
        "outputId": "31c7030a-3cbe-4f57-e7f1-7440cdd22cf2"
      },
      "execution_count": 10,
      "outputs": [
        {
          "output_type": "execute_result",
          "data": {
            "text/plain": [
              "ds6     951\n",
              "ds8     805\n",
              "ds2     293\n",
              "ds1     181\n",
              "ds7     159\n",
              "ds11    100\n",
              "ds9      57\n",
              "ds5      50\n",
              "ds4      31\n",
              "ds13     14\n",
              "ds10     10\n",
              "ds12     10\n",
              "ds3       6\n",
              "Name: ds_id, dtype: int64"
            ]
          },
          "metadata": {},
          "execution_count": 10
        }
      ]
    },
    {
      "cell_type": "code",
      "source": [
        "class_count_df = pd.DataFrame(df['no_num_classes'].value_counts())\n",
        "class_count_df"
      ],
      "metadata": {
        "colab": {
          "base_uri": "https://localhost:8080/",
          "height": 424
        },
        "id": "0YXe3HDKhK8X",
        "outputId": "e568caf8-553a-42c6-863e-537ede5a06d9"
      },
      "execution_count": 11,
      "outputs": [
        {
          "output_type": "execute_result",
          "data": {
            "text/plain": [
              "                                        no_num_classes\n",
              "pexels-photo                                      2263\n",
              "girl-lake-dress-white                                4\n",
              "people-man-model-glasses                             3\n",
              "colors-hairdresser-cutting-colorimetry               3\n",
              "adult-black-body-costume                             3\n",
              "...                                                ...\n",
              "black-fashion-fashion-model-model                    1\n",
              "black-and-white-person-feeling-smilin                1\n",
              "bezel-hairstyle-man-mode                             1\n",
              "beauty-woman-flowered-hat-cap                        1\n",
              "young-woman-shooting-model                           1\n",
              "\n",
              "[378 rows x 1 columns]"
            ],
            "text/html": [
              "\n",
              "  <div id=\"df-d5136a02-eb9e-4150-86fb-78f5cc68463f\" class=\"colab-df-container\">\n",
              "    <div>\n",
              "<style scoped>\n",
              "    .dataframe tbody tr th:only-of-type {\n",
              "        vertical-align: middle;\n",
              "    }\n",
              "\n",
              "    .dataframe tbody tr th {\n",
              "        vertical-align: top;\n",
              "    }\n",
              "\n",
              "    .dataframe thead th {\n",
              "        text-align: right;\n",
              "    }\n",
              "</style>\n",
              "<table border=\"1\" class=\"dataframe\">\n",
              "  <thead>\n",
              "    <tr style=\"text-align: right;\">\n",
              "      <th></th>\n",
              "      <th>no_num_classes</th>\n",
              "    </tr>\n",
              "  </thead>\n",
              "  <tbody>\n",
              "    <tr>\n",
              "      <th>pexels-photo</th>\n",
              "      <td>2263</td>\n",
              "    </tr>\n",
              "    <tr>\n",
              "      <th>girl-lake-dress-white</th>\n",
              "      <td>4</td>\n",
              "    </tr>\n",
              "    <tr>\n",
              "      <th>people-man-model-glasses</th>\n",
              "      <td>3</td>\n",
              "    </tr>\n",
              "    <tr>\n",
              "      <th>colors-hairdresser-cutting-colorimetry</th>\n",
              "      <td>3</td>\n",
              "    </tr>\n",
              "    <tr>\n",
              "      <th>adult-black-body-costume</th>\n",
              "      <td>3</td>\n",
              "    </tr>\n",
              "    <tr>\n",
              "      <th>...</th>\n",
              "      <td>...</td>\n",
              "    </tr>\n",
              "    <tr>\n",
              "      <th>black-fashion-fashion-model-model</th>\n",
              "      <td>1</td>\n",
              "    </tr>\n",
              "    <tr>\n",
              "      <th>black-and-white-person-feeling-smilin</th>\n",
              "      <td>1</td>\n",
              "    </tr>\n",
              "    <tr>\n",
              "      <th>bezel-hairstyle-man-mode</th>\n",
              "      <td>1</td>\n",
              "    </tr>\n",
              "    <tr>\n",
              "      <th>beauty-woman-flowered-hat-cap</th>\n",
              "      <td>1</td>\n",
              "    </tr>\n",
              "    <tr>\n",
              "      <th>young-woman-shooting-model</th>\n",
              "      <td>1</td>\n",
              "    </tr>\n",
              "  </tbody>\n",
              "</table>\n",
              "<p>378 rows × 1 columns</p>\n",
              "</div>\n",
              "    <div class=\"colab-df-buttons\">\n",
              "\n",
              "  <div class=\"colab-df-container\">\n",
              "    <button class=\"colab-df-convert\" onclick=\"convertToInteractive('df-d5136a02-eb9e-4150-86fb-78f5cc68463f')\"\n",
              "            title=\"Convert this dataframe to an interactive table.\"\n",
              "            style=\"display:none;\">\n",
              "\n",
              "  <svg xmlns=\"http://www.w3.org/2000/svg\" height=\"24px\" viewBox=\"0 -960 960 960\">\n",
              "    <path d=\"M120-120v-720h720v720H120Zm60-500h600v-160H180v160Zm220 220h160v-160H400v160Zm0 220h160v-160H400v160ZM180-400h160v-160H180v160Zm440 0h160v-160H620v160ZM180-180h160v-160H180v160Zm440 0h160v-160H620v160Z\"/>\n",
              "  </svg>\n",
              "    </button>\n",
              "\n",
              "  <style>\n",
              "    .colab-df-container {\n",
              "      display:flex;\n",
              "      gap: 12px;\n",
              "    }\n",
              "\n",
              "    .colab-df-convert {\n",
              "      background-color: #E8F0FE;\n",
              "      border: none;\n",
              "      border-radius: 50%;\n",
              "      cursor: pointer;\n",
              "      display: none;\n",
              "      fill: #1967D2;\n",
              "      height: 32px;\n",
              "      padding: 0 0 0 0;\n",
              "      width: 32px;\n",
              "    }\n",
              "\n",
              "    .colab-df-convert:hover {\n",
              "      background-color: #E2EBFA;\n",
              "      box-shadow: 0px 1px 2px rgba(60, 64, 67, 0.3), 0px 1px 3px 1px rgba(60, 64, 67, 0.15);\n",
              "      fill: #174EA6;\n",
              "    }\n",
              "\n",
              "    .colab-df-buttons div {\n",
              "      margin-bottom: 4px;\n",
              "    }\n",
              "\n",
              "    [theme=dark] .colab-df-convert {\n",
              "      background-color: #3B4455;\n",
              "      fill: #D2E3FC;\n",
              "    }\n",
              "\n",
              "    [theme=dark] .colab-df-convert:hover {\n",
              "      background-color: #434B5C;\n",
              "      box-shadow: 0px 1px 3px 1px rgba(0, 0, 0, 0.15);\n",
              "      filter: drop-shadow(0px 1px 2px rgba(0, 0, 0, 0.3));\n",
              "      fill: #FFFFFF;\n",
              "    }\n",
              "  </style>\n",
              "\n",
              "    <script>\n",
              "      const buttonEl =\n",
              "        document.querySelector('#df-d5136a02-eb9e-4150-86fb-78f5cc68463f button.colab-df-convert');\n",
              "      buttonEl.style.display =\n",
              "        google.colab.kernel.accessAllowed ? 'block' : 'none';\n",
              "\n",
              "      async function convertToInteractive(key) {\n",
              "        const element = document.querySelector('#df-d5136a02-eb9e-4150-86fb-78f5cc68463f');\n",
              "        const dataTable =\n",
              "          await google.colab.kernel.invokeFunction('convertToInteractive',\n",
              "                                                    [key], {});\n",
              "        if (!dataTable) return;\n",
              "\n",
              "        const docLinkHtml = 'Like what you see? Visit the ' +\n",
              "          '<a target=\"_blank\" href=https://colab.research.google.com/notebooks/data_table.ipynb>data table notebook</a>'\n",
              "          + ' to learn more about interactive tables.';\n",
              "        element.innerHTML = '';\n",
              "        dataTable['output_type'] = 'display_data';\n",
              "        await google.colab.output.renderOutput(dataTable, element);\n",
              "        const docLink = document.createElement('div');\n",
              "        docLink.innerHTML = docLinkHtml;\n",
              "        element.appendChild(docLink);\n",
              "      }\n",
              "    </script>\n",
              "  </div>\n",
              "\n",
              "\n",
              "<div id=\"df-756fd3da-81f9-4eaf-9208-806685508377\">\n",
              "  <button class=\"colab-df-quickchart\" onclick=\"quickchart('df-756fd3da-81f9-4eaf-9208-806685508377')\"\n",
              "            title=\"Suggest charts\"\n",
              "            style=\"display:none;\">\n",
              "\n",
              "<svg xmlns=\"http://www.w3.org/2000/svg\" height=\"24px\"viewBox=\"0 0 24 24\"\n",
              "     width=\"24px\">\n",
              "    <g>\n",
              "        <path d=\"M19 3H5c-1.1 0-2 .9-2 2v14c0 1.1.9 2 2 2h14c1.1 0 2-.9 2-2V5c0-1.1-.9-2-2-2zM9 17H7v-7h2v7zm4 0h-2V7h2v10zm4 0h-2v-4h2v4z\"/>\n",
              "    </g>\n",
              "</svg>\n",
              "  </button>\n",
              "\n",
              "<style>\n",
              "  .colab-df-quickchart {\n",
              "      --bg-color: #E8F0FE;\n",
              "      --fill-color: #1967D2;\n",
              "      --hover-bg-color: #E2EBFA;\n",
              "      --hover-fill-color: #174EA6;\n",
              "      --disabled-fill-color: #AAA;\n",
              "      --disabled-bg-color: #DDD;\n",
              "  }\n",
              "\n",
              "  [theme=dark] .colab-df-quickchart {\n",
              "      --bg-color: #3B4455;\n",
              "      --fill-color: #D2E3FC;\n",
              "      --hover-bg-color: #434B5C;\n",
              "      --hover-fill-color: #FFFFFF;\n",
              "      --disabled-bg-color: #3B4455;\n",
              "      --disabled-fill-color: #666;\n",
              "  }\n",
              "\n",
              "  .colab-df-quickchart {\n",
              "    background-color: var(--bg-color);\n",
              "    border: none;\n",
              "    border-radius: 50%;\n",
              "    cursor: pointer;\n",
              "    display: none;\n",
              "    fill: var(--fill-color);\n",
              "    height: 32px;\n",
              "    padding: 0;\n",
              "    width: 32px;\n",
              "  }\n",
              "\n",
              "  .colab-df-quickchart:hover {\n",
              "    background-color: var(--hover-bg-color);\n",
              "    box-shadow: 0 1px 2px rgba(60, 64, 67, 0.3), 0 1px 3px 1px rgba(60, 64, 67, 0.15);\n",
              "    fill: var(--button-hover-fill-color);\n",
              "  }\n",
              "\n",
              "  .colab-df-quickchart-complete:disabled,\n",
              "  .colab-df-quickchart-complete:disabled:hover {\n",
              "    background-color: var(--disabled-bg-color);\n",
              "    fill: var(--disabled-fill-color);\n",
              "    box-shadow: none;\n",
              "  }\n",
              "\n",
              "  .colab-df-spinner {\n",
              "    border: 2px solid var(--fill-color);\n",
              "    border-color: transparent;\n",
              "    border-bottom-color: var(--fill-color);\n",
              "    animation:\n",
              "      spin 1s steps(1) infinite;\n",
              "  }\n",
              "\n",
              "  @keyframes spin {\n",
              "    0% {\n",
              "      border-color: transparent;\n",
              "      border-bottom-color: var(--fill-color);\n",
              "      border-left-color: var(--fill-color);\n",
              "    }\n",
              "    20% {\n",
              "      border-color: transparent;\n",
              "      border-left-color: var(--fill-color);\n",
              "      border-top-color: var(--fill-color);\n",
              "    }\n",
              "    30% {\n",
              "      border-color: transparent;\n",
              "      border-left-color: var(--fill-color);\n",
              "      border-top-color: var(--fill-color);\n",
              "      border-right-color: var(--fill-color);\n",
              "    }\n",
              "    40% {\n",
              "      border-color: transparent;\n",
              "      border-right-color: var(--fill-color);\n",
              "      border-top-color: var(--fill-color);\n",
              "    }\n",
              "    60% {\n",
              "      border-color: transparent;\n",
              "      border-right-color: var(--fill-color);\n",
              "    }\n",
              "    80% {\n",
              "      border-color: transparent;\n",
              "      border-right-color: var(--fill-color);\n",
              "      border-bottom-color: var(--fill-color);\n",
              "    }\n",
              "    90% {\n",
              "      border-color: transparent;\n",
              "      border-bottom-color: var(--fill-color);\n",
              "    }\n",
              "  }\n",
              "</style>\n",
              "\n",
              "  <script>\n",
              "    async function quickchart(key) {\n",
              "      const quickchartButtonEl =\n",
              "        document.querySelector('#' + key + ' button');\n",
              "      quickchartButtonEl.disabled = true;  // To prevent multiple clicks.\n",
              "      quickchartButtonEl.classList.add('colab-df-spinner');\n",
              "      try {\n",
              "        const charts = await google.colab.kernel.invokeFunction(\n",
              "            'suggestCharts', [key], {});\n",
              "      } catch (error) {\n",
              "        console.error('Error during call to suggestCharts:', error);\n",
              "      }\n",
              "      quickchartButtonEl.classList.remove('colab-df-spinner');\n",
              "      quickchartButtonEl.classList.add('colab-df-quickchart-complete');\n",
              "    }\n",
              "    (() => {\n",
              "      let quickchartButtonEl =\n",
              "        document.querySelector('#df-756fd3da-81f9-4eaf-9208-806685508377 button');\n",
              "      quickchartButtonEl.style.display =\n",
              "        google.colab.kernel.accessAllowed ? 'block' : 'none';\n",
              "    })();\n",
              "  </script>\n",
              "</div>\n",
              "\n",
              "  <div id=\"id_574903d2-d789-4ace-8638-469b030ce891\">\n",
              "    <style>\n",
              "      .colab-df-generate {\n",
              "        background-color: #E8F0FE;\n",
              "        border: none;\n",
              "        border-radius: 50%;\n",
              "        cursor: pointer;\n",
              "        display: none;\n",
              "        fill: #1967D2;\n",
              "        height: 32px;\n",
              "        padding: 0 0 0 0;\n",
              "        width: 32px;\n",
              "      }\n",
              "\n",
              "      .colab-df-generate:hover {\n",
              "        background-color: #E2EBFA;\n",
              "        box-shadow: 0px 1px 2px rgba(60, 64, 67, 0.3), 0px 1px 3px 1px rgba(60, 64, 67, 0.15);\n",
              "        fill: #174EA6;\n",
              "      }\n",
              "\n",
              "      [theme=dark] .colab-df-generate {\n",
              "        background-color: #3B4455;\n",
              "        fill: #D2E3FC;\n",
              "      }\n",
              "\n",
              "      [theme=dark] .colab-df-generate:hover {\n",
              "        background-color: #434B5C;\n",
              "        box-shadow: 0px 1px 3px 1px rgba(0, 0, 0, 0.15);\n",
              "        filter: drop-shadow(0px 1px 2px rgba(0, 0, 0, 0.3));\n",
              "        fill: #FFFFFF;\n",
              "      }\n",
              "    </style>\n",
              "    <button class=\"colab-df-generate\" onclick=\"generateWithVariable('class_count_df')\"\n",
              "            title=\"Generate code using this dataframe.\"\n",
              "            style=\"display:none;\">\n",
              "\n",
              "  <svg xmlns=\"http://www.w3.org/2000/svg\" height=\"24px\"viewBox=\"0 0 24 24\"\n",
              "       width=\"24px\">\n",
              "    <path d=\"M7,19H8.4L18.45,9,17,7.55,7,17.6ZM5,21V16.75L18.45,3.32a2,2,0,0,1,2.83,0l1.4,1.43a1.91,1.91,0,0,1,.58,1.4,1.91,1.91,0,0,1-.58,1.4L9.25,21ZM18.45,9,17,7.55Zm-12,3A5.31,5.31,0,0,0,4.9,8.1,5.31,5.31,0,0,0,1,6.5,5.31,5.31,0,0,0,4.9,4.9,5.31,5.31,0,0,0,6.5,1,5.31,5.31,0,0,0,8.1,4.9,5.31,5.31,0,0,0,12,6.5,5.46,5.46,0,0,0,6.5,12Z\"/>\n",
              "  </svg>\n",
              "    </button>\n",
              "    <script>\n",
              "      (() => {\n",
              "      const buttonEl =\n",
              "        document.querySelector('#id_574903d2-d789-4ace-8638-469b030ce891 button.colab-df-generate');\n",
              "      buttonEl.style.display =\n",
              "        google.colab.kernel.accessAllowed ? 'block' : 'none';\n",
              "\n",
              "      buttonEl.onclick = () => {\n",
              "        google.colab.notebook.generateWithVariable('class_count_df');\n",
              "      }\n",
              "      })();\n",
              "    </script>\n",
              "  </div>\n",
              "\n",
              "    </div>\n",
              "  </div>\n"
            ]
          },
          "metadata": {},
          "execution_count": 11
        }
      ]
    },
    {
      "cell_type": "code",
      "source": [
        "condition_pixel_photo = (df['no_num_classes'] == 'pexels-photo')\n",
        "df_pixel_photo = df[condition_pixel_photo]\n",
        "df_pixel_photo"
      ],
      "metadata": {
        "colab": {
          "base_uri": "https://localhost:8080/",
          "height": 597
        },
        "id": "12Dk5qhFmaVS",
        "outputId": "f908cfa2-5801-4d72-94ab-f6c670e46715"
      },
      "execution_count": 12,
      "outputs": [
        {
          "output_type": "execute_result",
          "data": {
            "text/plain": [
              "                                   images                               masks  \\\n",
              "0     images/ds10_pexels-photo-687782.png  masks/ds10_pexels-photo-687782.png   \n",
              "1     images/ds10_pexels-photo-835971.png  masks/ds10_pexels-photo-835971.png   \n",
              "2     images/ds10_pexels-photo-850708.png  masks/ds10_pexels-photo-850708.png   \n",
              "3     images/ds10_pexels-photo-864937.png  masks/ds10_pexels-photo-864937.png   \n",
              "4     images/ds10_pexels-photo-865908.png  masks/ds10_pexels-photo-865908.png   \n",
              "...                                   ...                                 ...   \n",
              "2662   images/ds9_pexels-photo-884417.png   masks/ds9_pexels-photo-884417.png   \n",
              "2663   images/ds9_pexels-photo-884418.png   masks/ds9_pexels-photo-884418.png   \n",
              "2664   images/ds9_pexels-photo-884419.png   masks/ds9_pexels-photo-884419.png   \n",
              "2665   images/ds9_pexels-photo-884421.png   masks/ds9_pexels-photo-884421.png   \n",
              "2666   images/ds9_pexels-photo-884551.png   masks/ds9_pexels-photo-884551.png   \n",
              "\n",
              "     ds_id        image_classes no_num_classes  \n",
              "0     ds10  pexels-photo-687782   pexels-photo  \n",
              "1     ds10  pexels-photo-835971   pexels-photo  \n",
              "2     ds10  pexels-photo-850708   pexels-photo  \n",
              "3     ds10  pexels-photo-864937   pexels-photo  \n",
              "4     ds10  pexels-photo-865908   pexels-photo  \n",
              "...    ...                  ...            ...  \n",
              "2662   ds9  pexels-photo-884417   pexels-photo  \n",
              "2663   ds9  pexels-photo-884418   pexels-photo  \n",
              "2664   ds9  pexels-photo-884419   pexels-photo  \n",
              "2665   ds9  pexels-photo-884421   pexels-photo  \n",
              "2666   ds9  pexels-photo-884551   pexels-photo  \n",
              "\n",
              "[2263 rows x 5 columns]"
            ],
            "text/html": [
              "\n",
              "  <div id=\"df-47eecbdf-e83c-4bf6-8548-34dace0f8d1e\" class=\"colab-df-container\">\n",
              "    <div>\n",
              "<style scoped>\n",
              "    .dataframe tbody tr th:only-of-type {\n",
              "        vertical-align: middle;\n",
              "    }\n",
              "\n",
              "    .dataframe tbody tr th {\n",
              "        vertical-align: top;\n",
              "    }\n",
              "\n",
              "    .dataframe thead th {\n",
              "        text-align: right;\n",
              "    }\n",
              "</style>\n",
              "<table border=\"1\" class=\"dataframe\">\n",
              "  <thead>\n",
              "    <tr style=\"text-align: right;\">\n",
              "      <th></th>\n",
              "      <th>images</th>\n",
              "      <th>masks</th>\n",
              "      <th>ds_id</th>\n",
              "      <th>image_classes</th>\n",
              "      <th>no_num_classes</th>\n",
              "    </tr>\n",
              "  </thead>\n",
              "  <tbody>\n",
              "    <tr>\n",
              "      <th>0</th>\n",
              "      <td>images/ds10_pexels-photo-687782.png</td>\n",
              "      <td>masks/ds10_pexels-photo-687782.png</td>\n",
              "      <td>ds10</td>\n",
              "      <td>pexels-photo-687782</td>\n",
              "      <td>pexels-photo</td>\n",
              "    </tr>\n",
              "    <tr>\n",
              "      <th>1</th>\n",
              "      <td>images/ds10_pexels-photo-835971.png</td>\n",
              "      <td>masks/ds10_pexels-photo-835971.png</td>\n",
              "      <td>ds10</td>\n",
              "      <td>pexels-photo-835971</td>\n",
              "      <td>pexels-photo</td>\n",
              "    </tr>\n",
              "    <tr>\n",
              "      <th>2</th>\n",
              "      <td>images/ds10_pexels-photo-850708.png</td>\n",
              "      <td>masks/ds10_pexels-photo-850708.png</td>\n",
              "      <td>ds10</td>\n",
              "      <td>pexels-photo-850708</td>\n",
              "      <td>pexels-photo</td>\n",
              "    </tr>\n",
              "    <tr>\n",
              "      <th>3</th>\n",
              "      <td>images/ds10_pexels-photo-864937.png</td>\n",
              "      <td>masks/ds10_pexels-photo-864937.png</td>\n",
              "      <td>ds10</td>\n",
              "      <td>pexels-photo-864937</td>\n",
              "      <td>pexels-photo</td>\n",
              "    </tr>\n",
              "    <tr>\n",
              "      <th>4</th>\n",
              "      <td>images/ds10_pexels-photo-865908.png</td>\n",
              "      <td>masks/ds10_pexels-photo-865908.png</td>\n",
              "      <td>ds10</td>\n",
              "      <td>pexels-photo-865908</td>\n",
              "      <td>pexels-photo</td>\n",
              "    </tr>\n",
              "    <tr>\n",
              "      <th>...</th>\n",
              "      <td>...</td>\n",
              "      <td>...</td>\n",
              "      <td>...</td>\n",
              "      <td>...</td>\n",
              "      <td>...</td>\n",
              "    </tr>\n",
              "    <tr>\n",
              "      <th>2662</th>\n",
              "      <td>images/ds9_pexels-photo-884417.png</td>\n",
              "      <td>masks/ds9_pexels-photo-884417.png</td>\n",
              "      <td>ds9</td>\n",
              "      <td>pexels-photo-884417</td>\n",
              "      <td>pexels-photo</td>\n",
              "    </tr>\n",
              "    <tr>\n",
              "      <th>2663</th>\n",
              "      <td>images/ds9_pexels-photo-884418.png</td>\n",
              "      <td>masks/ds9_pexels-photo-884418.png</td>\n",
              "      <td>ds9</td>\n",
              "      <td>pexels-photo-884418</td>\n",
              "      <td>pexels-photo</td>\n",
              "    </tr>\n",
              "    <tr>\n",
              "      <th>2664</th>\n",
              "      <td>images/ds9_pexels-photo-884419.png</td>\n",
              "      <td>masks/ds9_pexels-photo-884419.png</td>\n",
              "      <td>ds9</td>\n",
              "      <td>pexels-photo-884419</td>\n",
              "      <td>pexels-photo</td>\n",
              "    </tr>\n",
              "    <tr>\n",
              "      <th>2665</th>\n",
              "      <td>images/ds9_pexels-photo-884421.png</td>\n",
              "      <td>masks/ds9_pexels-photo-884421.png</td>\n",
              "      <td>ds9</td>\n",
              "      <td>pexels-photo-884421</td>\n",
              "      <td>pexels-photo</td>\n",
              "    </tr>\n",
              "    <tr>\n",
              "      <th>2666</th>\n",
              "      <td>images/ds9_pexels-photo-884551.png</td>\n",
              "      <td>masks/ds9_pexels-photo-884551.png</td>\n",
              "      <td>ds9</td>\n",
              "      <td>pexels-photo-884551</td>\n",
              "      <td>pexels-photo</td>\n",
              "    </tr>\n",
              "  </tbody>\n",
              "</table>\n",
              "<p>2263 rows × 5 columns</p>\n",
              "</div>\n",
              "    <div class=\"colab-df-buttons\">\n",
              "\n",
              "  <div class=\"colab-df-container\">\n",
              "    <button class=\"colab-df-convert\" onclick=\"convertToInteractive('df-47eecbdf-e83c-4bf6-8548-34dace0f8d1e')\"\n",
              "            title=\"Convert this dataframe to an interactive table.\"\n",
              "            style=\"display:none;\">\n",
              "\n",
              "  <svg xmlns=\"http://www.w3.org/2000/svg\" height=\"24px\" viewBox=\"0 -960 960 960\">\n",
              "    <path d=\"M120-120v-720h720v720H120Zm60-500h600v-160H180v160Zm220 220h160v-160H400v160Zm0 220h160v-160H400v160ZM180-400h160v-160H180v160Zm440 0h160v-160H620v160ZM180-180h160v-160H180v160Zm440 0h160v-160H620v160Z\"/>\n",
              "  </svg>\n",
              "    </button>\n",
              "\n",
              "  <style>\n",
              "    .colab-df-container {\n",
              "      display:flex;\n",
              "      gap: 12px;\n",
              "    }\n",
              "\n",
              "    .colab-df-convert {\n",
              "      background-color: #E8F0FE;\n",
              "      border: none;\n",
              "      border-radius: 50%;\n",
              "      cursor: pointer;\n",
              "      display: none;\n",
              "      fill: #1967D2;\n",
              "      height: 32px;\n",
              "      padding: 0 0 0 0;\n",
              "      width: 32px;\n",
              "    }\n",
              "\n",
              "    .colab-df-convert:hover {\n",
              "      background-color: #E2EBFA;\n",
              "      box-shadow: 0px 1px 2px rgba(60, 64, 67, 0.3), 0px 1px 3px 1px rgba(60, 64, 67, 0.15);\n",
              "      fill: #174EA6;\n",
              "    }\n",
              "\n",
              "    .colab-df-buttons div {\n",
              "      margin-bottom: 4px;\n",
              "    }\n",
              "\n",
              "    [theme=dark] .colab-df-convert {\n",
              "      background-color: #3B4455;\n",
              "      fill: #D2E3FC;\n",
              "    }\n",
              "\n",
              "    [theme=dark] .colab-df-convert:hover {\n",
              "      background-color: #434B5C;\n",
              "      box-shadow: 0px 1px 3px 1px rgba(0, 0, 0, 0.15);\n",
              "      filter: drop-shadow(0px 1px 2px rgba(0, 0, 0, 0.3));\n",
              "      fill: #FFFFFF;\n",
              "    }\n",
              "  </style>\n",
              "\n",
              "    <script>\n",
              "      const buttonEl =\n",
              "        document.querySelector('#df-47eecbdf-e83c-4bf6-8548-34dace0f8d1e button.colab-df-convert');\n",
              "      buttonEl.style.display =\n",
              "        google.colab.kernel.accessAllowed ? 'block' : 'none';\n",
              "\n",
              "      async function convertToInteractive(key) {\n",
              "        const element = document.querySelector('#df-47eecbdf-e83c-4bf6-8548-34dace0f8d1e');\n",
              "        const dataTable =\n",
              "          await google.colab.kernel.invokeFunction('convertToInteractive',\n",
              "                                                    [key], {});\n",
              "        if (!dataTable) return;\n",
              "\n",
              "        const docLinkHtml = 'Like what you see? Visit the ' +\n",
              "          '<a target=\"_blank\" href=https://colab.research.google.com/notebooks/data_table.ipynb>data table notebook</a>'\n",
              "          + ' to learn more about interactive tables.';\n",
              "        element.innerHTML = '';\n",
              "        dataTable['output_type'] = 'display_data';\n",
              "        await google.colab.output.renderOutput(dataTable, element);\n",
              "        const docLink = document.createElement('div');\n",
              "        docLink.innerHTML = docLinkHtml;\n",
              "        element.appendChild(docLink);\n",
              "      }\n",
              "    </script>\n",
              "  </div>\n",
              "\n",
              "\n",
              "<div id=\"df-6a78a2de-7a26-4cfb-8720-398e36f39570\">\n",
              "  <button class=\"colab-df-quickchart\" onclick=\"quickchart('df-6a78a2de-7a26-4cfb-8720-398e36f39570')\"\n",
              "            title=\"Suggest charts\"\n",
              "            style=\"display:none;\">\n",
              "\n",
              "<svg xmlns=\"http://www.w3.org/2000/svg\" height=\"24px\"viewBox=\"0 0 24 24\"\n",
              "     width=\"24px\">\n",
              "    <g>\n",
              "        <path d=\"M19 3H5c-1.1 0-2 .9-2 2v14c0 1.1.9 2 2 2h14c1.1 0 2-.9 2-2V5c0-1.1-.9-2-2-2zM9 17H7v-7h2v7zm4 0h-2V7h2v10zm4 0h-2v-4h2v4z\"/>\n",
              "    </g>\n",
              "</svg>\n",
              "  </button>\n",
              "\n",
              "<style>\n",
              "  .colab-df-quickchart {\n",
              "      --bg-color: #E8F0FE;\n",
              "      --fill-color: #1967D2;\n",
              "      --hover-bg-color: #E2EBFA;\n",
              "      --hover-fill-color: #174EA6;\n",
              "      --disabled-fill-color: #AAA;\n",
              "      --disabled-bg-color: #DDD;\n",
              "  }\n",
              "\n",
              "  [theme=dark] .colab-df-quickchart {\n",
              "      --bg-color: #3B4455;\n",
              "      --fill-color: #D2E3FC;\n",
              "      --hover-bg-color: #434B5C;\n",
              "      --hover-fill-color: #FFFFFF;\n",
              "      --disabled-bg-color: #3B4455;\n",
              "      --disabled-fill-color: #666;\n",
              "  }\n",
              "\n",
              "  .colab-df-quickchart {\n",
              "    background-color: var(--bg-color);\n",
              "    border: none;\n",
              "    border-radius: 50%;\n",
              "    cursor: pointer;\n",
              "    display: none;\n",
              "    fill: var(--fill-color);\n",
              "    height: 32px;\n",
              "    padding: 0;\n",
              "    width: 32px;\n",
              "  }\n",
              "\n",
              "  .colab-df-quickchart:hover {\n",
              "    background-color: var(--hover-bg-color);\n",
              "    box-shadow: 0 1px 2px rgba(60, 64, 67, 0.3), 0 1px 3px 1px rgba(60, 64, 67, 0.15);\n",
              "    fill: var(--button-hover-fill-color);\n",
              "  }\n",
              "\n",
              "  .colab-df-quickchart-complete:disabled,\n",
              "  .colab-df-quickchart-complete:disabled:hover {\n",
              "    background-color: var(--disabled-bg-color);\n",
              "    fill: var(--disabled-fill-color);\n",
              "    box-shadow: none;\n",
              "  }\n",
              "\n",
              "  .colab-df-spinner {\n",
              "    border: 2px solid var(--fill-color);\n",
              "    border-color: transparent;\n",
              "    border-bottom-color: var(--fill-color);\n",
              "    animation:\n",
              "      spin 1s steps(1) infinite;\n",
              "  }\n",
              "\n",
              "  @keyframes spin {\n",
              "    0% {\n",
              "      border-color: transparent;\n",
              "      border-bottom-color: var(--fill-color);\n",
              "      border-left-color: var(--fill-color);\n",
              "    }\n",
              "    20% {\n",
              "      border-color: transparent;\n",
              "      border-left-color: var(--fill-color);\n",
              "      border-top-color: var(--fill-color);\n",
              "    }\n",
              "    30% {\n",
              "      border-color: transparent;\n",
              "      border-left-color: var(--fill-color);\n",
              "      border-top-color: var(--fill-color);\n",
              "      border-right-color: var(--fill-color);\n",
              "    }\n",
              "    40% {\n",
              "      border-color: transparent;\n",
              "      border-right-color: var(--fill-color);\n",
              "      border-top-color: var(--fill-color);\n",
              "    }\n",
              "    60% {\n",
              "      border-color: transparent;\n",
              "      border-right-color: var(--fill-color);\n",
              "    }\n",
              "    80% {\n",
              "      border-color: transparent;\n",
              "      border-right-color: var(--fill-color);\n",
              "      border-bottom-color: var(--fill-color);\n",
              "    }\n",
              "    90% {\n",
              "      border-color: transparent;\n",
              "      border-bottom-color: var(--fill-color);\n",
              "    }\n",
              "  }\n",
              "</style>\n",
              "\n",
              "  <script>\n",
              "    async function quickchart(key) {\n",
              "      const quickchartButtonEl =\n",
              "        document.querySelector('#' + key + ' button');\n",
              "      quickchartButtonEl.disabled = true;  // To prevent multiple clicks.\n",
              "      quickchartButtonEl.classList.add('colab-df-spinner');\n",
              "      try {\n",
              "        const charts = await google.colab.kernel.invokeFunction(\n",
              "            'suggestCharts', [key], {});\n",
              "      } catch (error) {\n",
              "        console.error('Error during call to suggestCharts:', error);\n",
              "      }\n",
              "      quickchartButtonEl.classList.remove('colab-df-spinner');\n",
              "      quickchartButtonEl.classList.add('colab-df-quickchart-complete');\n",
              "    }\n",
              "    (() => {\n",
              "      let quickchartButtonEl =\n",
              "        document.querySelector('#df-6a78a2de-7a26-4cfb-8720-398e36f39570 button');\n",
              "      quickchartButtonEl.style.display =\n",
              "        google.colab.kernel.accessAllowed ? 'block' : 'none';\n",
              "    })();\n",
              "  </script>\n",
              "</div>\n",
              "\n",
              "  <div id=\"id_6b20174e-7940-4d4c-ae00-52bb3201a49b\">\n",
              "    <style>\n",
              "      .colab-df-generate {\n",
              "        background-color: #E8F0FE;\n",
              "        border: none;\n",
              "        border-radius: 50%;\n",
              "        cursor: pointer;\n",
              "        display: none;\n",
              "        fill: #1967D2;\n",
              "        height: 32px;\n",
              "        padding: 0 0 0 0;\n",
              "        width: 32px;\n",
              "      }\n",
              "\n",
              "      .colab-df-generate:hover {\n",
              "        background-color: #E2EBFA;\n",
              "        box-shadow: 0px 1px 2px rgba(60, 64, 67, 0.3), 0px 1px 3px 1px rgba(60, 64, 67, 0.15);\n",
              "        fill: #174EA6;\n",
              "      }\n",
              "\n",
              "      [theme=dark] .colab-df-generate {\n",
              "        background-color: #3B4455;\n",
              "        fill: #D2E3FC;\n",
              "      }\n",
              "\n",
              "      [theme=dark] .colab-df-generate:hover {\n",
              "        background-color: #434B5C;\n",
              "        box-shadow: 0px 1px 3px 1px rgba(0, 0, 0, 0.15);\n",
              "        filter: drop-shadow(0px 1px 2px rgba(0, 0, 0, 0.3));\n",
              "        fill: #FFFFFF;\n",
              "      }\n",
              "    </style>\n",
              "    <button class=\"colab-df-generate\" onclick=\"generateWithVariable('df_pixel_photo')\"\n",
              "            title=\"Generate code using this dataframe.\"\n",
              "            style=\"display:none;\">\n",
              "\n",
              "  <svg xmlns=\"http://www.w3.org/2000/svg\" height=\"24px\"viewBox=\"0 0 24 24\"\n",
              "       width=\"24px\">\n",
              "    <path d=\"M7,19H8.4L18.45,9,17,7.55,7,17.6ZM5,21V16.75L18.45,3.32a2,2,0,0,1,2.83,0l1.4,1.43a1.91,1.91,0,0,1,.58,1.4,1.91,1.91,0,0,1-.58,1.4L9.25,21ZM18.45,9,17,7.55Zm-12,3A5.31,5.31,0,0,0,4.9,8.1,5.31,5.31,0,0,0,1,6.5,5.31,5.31,0,0,0,4.9,4.9,5.31,5.31,0,0,0,6.5,1,5.31,5.31,0,0,0,8.1,4.9,5.31,5.31,0,0,0,12,6.5,5.46,5.46,0,0,0,6.5,12Z\"/>\n",
              "  </svg>\n",
              "    </button>\n",
              "    <script>\n",
              "      (() => {\n",
              "      const buttonEl =\n",
              "        document.querySelector('#id_6b20174e-7940-4d4c-ae00-52bb3201a49b button.colab-df-generate');\n",
              "      buttonEl.style.display =\n",
              "        google.colab.kernel.accessAllowed ? 'block' : 'none';\n",
              "\n",
              "      buttonEl.onclick = () => {\n",
              "        google.colab.notebook.generateWithVariable('df_pixel_photo');\n",
              "      }\n",
              "      })();\n",
              "    </script>\n",
              "  </div>\n",
              "\n",
              "    </div>\n",
              "  </div>\n"
            ]
          },
          "metadata": {},
          "execution_count": 12
        }
      ]
    },
    {
      "cell_type": "code",
      "source": [
        "df_non_pixel_photo = df[~condition_pixel_photo]\n",
        "df_non_pixel_photo"
      ],
      "metadata": {
        "colab": {
          "base_uri": "https://localhost:8080/",
          "height": 632
        },
        "id": "gdrERziep24L",
        "outputId": "db1fd541-460c-4573-98d0-bd8a6f18d879"
      },
      "execution_count": 13,
      "outputs": [
        {
          "output_type": "execute_result",
          "data": {
            "text/plain": [
              "                                                 images  \\\n",
              "9     images/ds10_thailand-costume-girl-woman-157857...   \n",
              "10    images/ds11_adorable-baby-beautiful-boy-41000.png   \n",
              "11     images/ds11_autumn-fall-baby-boy-child-59865.png   \n",
              "12       images/ds11_baby-boy-child-christmas-41173.png   \n",
              "13          images/ds11_baby-boy-hat-covered-101537.png   \n",
              "...                                                 ...   \n",
              "2605      images/ds8_women-sexy-outdoors-girl-48843.png   \n",
              "2606    images/ds8_women-young-gorgeous-lying-47362.png   \n",
              "2607      images/ds8_young-girl-pretty-beauty-52990.png   \n",
              "2608  images/ds8_young-woman-pretty-shooting-157717.png   \n",
              "2609   images/ds8_young-woman-shooting-model-157661.png   \n",
              "\n",
              "                                                  masks ds_id  \\\n",
              "9     masks/ds10_thailand-costume-girl-woman-157857.png  ds10   \n",
              "10     masks/ds11_adorable-baby-beautiful-boy-41000.png  ds11   \n",
              "11      masks/ds11_autumn-fall-baby-boy-child-59865.png  ds11   \n",
              "12        masks/ds11_baby-boy-child-christmas-41173.png  ds11   \n",
              "13           masks/ds11_baby-boy-hat-covered-101537.png  ds11   \n",
              "...                                                 ...   ...   \n",
              "2605       masks/ds8_women-sexy-outdoors-girl-48843.png   ds8   \n",
              "2606     masks/ds8_women-young-gorgeous-lying-47362.png   ds8   \n",
              "2607       masks/ds8_young-girl-pretty-beauty-52990.png   ds8   \n",
              "2608   masks/ds8_young-woman-pretty-shooting-157717.png   ds8   \n",
              "2609    masks/ds8_young-woman-shooting-model-157661.png   ds8   \n",
              "\n",
              "                           image_classes               no_num_classes  \n",
              "9     thailand-costume-girl-woman-157857  thailand-costume-girl-woman  \n",
              "10     adorable-baby-beautiful-boy-41000  adorable-baby-beautiful-boy  \n",
              "11      autumn-fall-baby-boy-child-59865   autumn-fall-baby-boy-child  \n",
              "12        baby-boy-child-christmas-41173     baby-boy-child-christmas  \n",
              "13           baby-boy-hat-covered-101537         baby-boy-hat-covered  \n",
              "...                                  ...                          ...  \n",
              "2605      women-sexy-outdoors-girl-48843     women-sexy-outdoors-girl  \n",
              "2606    women-young-gorgeous-lying-47362   women-young-gorgeous-lying  \n",
              "2607      young-girl-pretty-beauty-52990     young-girl-pretty-beauty  \n",
              "2608  young-woman-pretty-shooting-157717  young-woman-pretty-shooting  \n",
              "2609   young-woman-shooting-model-157661   young-woman-shooting-model  \n",
              "\n",
              "[404 rows x 5 columns]"
            ],
            "text/html": [
              "\n",
              "  <div id=\"df-4c82c702-e662-4c94-8fb7-e609b4c540db\" class=\"colab-df-container\">\n",
              "    <div>\n",
              "<style scoped>\n",
              "    .dataframe tbody tr th:only-of-type {\n",
              "        vertical-align: middle;\n",
              "    }\n",
              "\n",
              "    .dataframe tbody tr th {\n",
              "        vertical-align: top;\n",
              "    }\n",
              "\n",
              "    .dataframe thead th {\n",
              "        text-align: right;\n",
              "    }\n",
              "</style>\n",
              "<table border=\"1\" class=\"dataframe\">\n",
              "  <thead>\n",
              "    <tr style=\"text-align: right;\">\n",
              "      <th></th>\n",
              "      <th>images</th>\n",
              "      <th>masks</th>\n",
              "      <th>ds_id</th>\n",
              "      <th>image_classes</th>\n",
              "      <th>no_num_classes</th>\n",
              "    </tr>\n",
              "  </thead>\n",
              "  <tbody>\n",
              "    <tr>\n",
              "      <th>9</th>\n",
              "      <td>images/ds10_thailand-costume-girl-woman-157857...</td>\n",
              "      <td>masks/ds10_thailand-costume-girl-woman-157857.png</td>\n",
              "      <td>ds10</td>\n",
              "      <td>thailand-costume-girl-woman-157857</td>\n",
              "      <td>thailand-costume-girl-woman</td>\n",
              "    </tr>\n",
              "    <tr>\n",
              "      <th>10</th>\n",
              "      <td>images/ds11_adorable-baby-beautiful-boy-41000.png</td>\n",
              "      <td>masks/ds11_adorable-baby-beautiful-boy-41000.png</td>\n",
              "      <td>ds11</td>\n",
              "      <td>adorable-baby-beautiful-boy-41000</td>\n",
              "      <td>adorable-baby-beautiful-boy</td>\n",
              "    </tr>\n",
              "    <tr>\n",
              "      <th>11</th>\n",
              "      <td>images/ds11_autumn-fall-baby-boy-child-59865.png</td>\n",
              "      <td>masks/ds11_autumn-fall-baby-boy-child-59865.png</td>\n",
              "      <td>ds11</td>\n",
              "      <td>autumn-fall-baby-boy-child-59865</td>\n",
              "      <td>autumn-fall-baby-boy-child</td>\n",
              "    </tr>\n",
              "    <tr>\n",
              "      <th>12</th>\n",
              "      <td>images/ds11_baby-boy-child-christmas-41173.png</td>\n",
              "      <td>masks/ds11_baby-boy-child-christmas-41173.png</td>\n",
              "      <td>ds11</td>\n",
              "      <td>baby-boy-child-christmas-41173</td>\n",
              "      <td>baby-boy-child-christmas</td>\n",
              "    </tr>\n",
              "    <tr>\n",
              "      <th>13</th>\n",
              "      <td>images/ds11_baby-boy-hat-covered-101537.png</td>\n",
              "      <td>masks/ds11_baby-boy-hat-covered-101537.png</td>\n",
              "      <td>ds11</td>\n",
              "      <td>baby-boy-hat-covered-101537</td>\n",
              "      <td>baby-boy-hat-covered</td>\n",
              "    </tr>\n",
              "    <tr>\n",
              "      <th>...</th>\n",
              "      <td>...</td>\n",
              "      <td>...</td>\n",
              "      <td>...</td>\n",
              "      <td>...</td>\n",
              "      <td>...</td>\n",
              "    </tr>\n",
              "    <tr>\n",
              "      <th>2605</th>\n",
              "      <td>images/ds8_women-sexy-outdoors-girl-48843.png</td>\n",
              "      <td>masks/ds8_women-sexy-outdoors-girl-48843.png</td>\n",
              "      <td>ds8</td>\n",
              "      <td>women-sexy-outdoors-girl-48843</td>\n",
              "      <td>women-sexy-outdoors-girl</td>\n",
              "    </tr>\n",
              "    <tr>\n",
              "      <th>2606</th>\n",
              "      <td>images/ds8_women-young-gorgeous-lying-47362.png</td>\n",
              "      <td>masks/ds8_women-young-gorgeous-lying-47362.png</td>\n",
              "      <td>ds8</td>\n",
              "      <td>women-young-gorgeous-lying-47362</td>\n",
              "      <td>women-young-gorgeous-lying</td>\n",
              "    </tr>\n",
              "    <tr>\n",
              "      <th>2607</th>\n",
              "      <td>images/ds8_young-girl-pretty-beauty-52990.png</td>\n",
              "      <td>masks/ds8_young-girl-pretty-beauty-52990.png</td>\n",
              "      <td>ds8</td>\n",
              "      <td>young-girl-pretty-beauty-52990</td>\n",
              "      <td>young-girl-pretty-beauty</td>\n",
              "    </tr>\n",
              "    <tr>\n",
              "      <th>2608</th>\n",
              "      <td>images/ds8_young-woman-pretty-shooting-157717.png</td>\n",
              "      <td>masks/ds8_young-woman-pretty-shooting-157717.png</td>\n",
              "      <td>ds8</td>\n",
              "      <td>young-woman-pretty-shooting-157717</td>\n",
              "      <td>young-woman-pretty-shooting</td>\n",
              "    </tr>\n",
              "    <tr>\n",
              "      <th>2609</th>\n",
              "      <td>images/ds8_young-woman-shooting-model-157661.png</td>\n",
              "      <td>masks/ds8_young-woman-shooting-model-157661.png</td>\n",
              "      <td>ds8</td>\n",
              "      <td>young-woman-shooting-model-157661</td>\n",
              "      <td>young-woman-shooting-model</td>\n",
              "    </tr>\n",
              "  </tbody>\n",
              "</table>\n",
              "<p>404 rows × 5 columns</p>\n",
              "</div>\n",
              "    <div class=\"colab-df-buttons\">\n",
              "\n",
              "  <div class=\"colab-df-container\">\n",
              "    <button class=\"colab-df-convert\" onclick=\"convertToInteractive('df-4c82c702-e662-4c94-8fb7-e609b4c540db')\"\n",
              "            title=\"Convert this dataframe to an interactive table.\"\n",
              "            style=\"display:none;\">\n",
              "\n",
              "  <svg xmlns=\"http://www.w3.org/2000/svg\" height=\"24px\" viewBox=\"0 -960 960 960\">\n",
              "    <path d=\"M120-120v-720h720v720H120Zm60-500h600v-160H180v160Zm220 220h160v-160H400v160Zm0 220h160v-160H400v160ZM180-400h160v-160H180v160Zm440 0h160v-160H620v160ZM180-180h160v-160H180v160Zm440 0h160v-160H620v160Z\"/>\n",
              "  </svg>\n",
              "    </button>\n",
              "\n",
              "  <style>\n",
              "    .colab-df-container {\n",
              "      display:flex;\n",
              "      gap: 12px;\n",
              "    }\n",
              "\n",
              "    .colab-df-convert {\n",
              "      background-color: #E8F0FE;\n",
              "      border: none;\n",
              "      border-radius: 50%;\n",
              "      cursor: pointer;\n",
              "      display: none;\n",
              "      fill: #1967D2;\n",
              "      height: 32px;\n",
              "      padding: 0 0 0 0;\n",
              "      width: 32px;\n",
              "    }\n",
              "\n",
              "    .colab-df-convert:hover {\n",
              "      background-color: #E2EBFA;\n",
              "      box-shadow: 0px 1px 2px rgba(60, 64, 67, 0.3), 0px 1px 3px 1px rgba(60, 64, 67, 0.15);\n",
              "      fill: #174EA6;\n",
              "    }\n",
              "\n",
              "    .colab-df-buttons div {\n",
              "      margin-bottom: 4px;\n",
              "    }\n",
              "\n",
              "    [theme=dark] .colab-df-convert {\n",
              "      background-color: #3B4455;\n",
              "      fill: #D2E3FC;\n",
              "    }\n",
              "\n",
              "    [theme=dark] .colab-df-convert:hover {\n",
              "      background-color: #434B5C;\n",
              "      box-shadow: 0px 1px 3px 1px rgba(0, 0, 0, 0.15);\n",
              "      filter: drop-shadow(0px 1px 2px rgba(0, 0, 0, 0.3));\n",
              "      fill: #FFFFFF;\n",
              "    }\n",
              "  </style>\n",
              "\n",
              "    <script>\n",
              "      const buttonEl =\n",
              "        document.querySelector('#df-4c82c702-e662-4c94-8fb7-e609b4c540db button.colab-df-convert');\n",
              "      buttonEl.style.display =\n",
              "        google.colab.kernel.accessAllowed ? 'block' : 'none';\n",
              "\n",
              "      async function convertToInteractive(key) {\n",
              "        const element = document.querySelector('#df-4c82c702-e662-4c94-8fb7-e609b4c540db');\n",
              "        const dataTable =\n",
              "          await google.colab.kernel.invokeFunction('convertToInteractive',\n",
              "                                                    [key], {});\n",
              "        if (!dataTable) return;\n",
              "\n",
              "        const docLinkHtml = 'Like what you see? Visit the ' +\n",
              "          '<a target=\"_blank\" href=https://colab.research.google.com/notebooks/data_table.ipynb>data table notebook</a>'\n",
              "          + ' to learn more about interactive tables.';\n",
              "        element.innerHTML = '';\n",
              "        dataTable['output_type'] = 'display_data';\n",
              "        await google.colab.output.renderOutput(dataTable, element);\n",
              "        const docLink = document.createElement('div');\n",
              "        docLink.innerHTML = docLinkHtml;\n",
              "        element.appendChild(docLink);\n",
              "      }\n",
              "    </script>\n",
              "  </div>\n",
              "\n",
              "\n",
              "<div id=\"df-f9ed046c-2082-40b8-bf29-87ae8d76cd09\">\n",
              "  <button class=\"colab-df-quickchart\" onclick=\"quickchart('df-f9ed046c-2082-40b8-bf29-87ae8d76cd09')\"\n",
              "            title=\"Suggest charts\"\n",
              "            style=\"display:none;\">\n",
              "\n",
              "<svg xmlns=\"http://www.w3.org/2000/svg\" height=\"24px\"viewBox=\"0 0 24 24\"\n",
              "     width=\"24px\">\n",
              "    <g>\n",
              "        <path d=\"M19 3H5c-1.1 0-2 .9-2 2v14c0 1.1.9 2 2 2h14c1.1 0 2-.9 2-2V5c0-1.1-.9-2-2-2zM9 17H7v-7h2v7zm4 0h-2V7h2v10zm4 0h-2v-4h2v4z\"/>\n",
              "    </g>\n",
              "</svg>\n",
              "  </button>\n",
              "\n",
              "<style>\n",
              "  .colab-df-quickchart {\n",
              "      --bg-color: #E8F0FE;\n",
              "      --fill-color: #1967D2;\n",
              "      --hover-bg-color: #E2EBFA;\n",
              "      --hover-fill-color: #174EA6;\n",
              "      --disabled-fill-color: #AAA;\n",
              "      --disabled-bg-color: #DDD;\n",
              "  }\n",
              "\n",
              "  [theme=dark] .colab-df-quickchart {\n",
              "      --bg-color: #3B4455;\n",
              "      --fill-color: #D2E3FC;\n",
              "      --hover-bg-color: #434B5C;\n",
              "      --hover-fill-color: #FFFFFF;\n",
              "      --disabled-bg-color: #3B4455;\n",
              "      --disabled-fill-color: #666;\n",
              "  }\n",
              "\n",
              "  .colab-df-quickchart {\n",
              "    background-color: var(--bg-color);\n",
              "    border: none;\n",
              "    border-radius: 50%;\n",
              "    cursor: pointer;\n",
              "    display: none;\n",
              "    fill: var(--fill-color);\n",
              "    height: 32px;\n",
              "    padding: 0;\n",
              "    width: 32px;\n",
              "  }\n",
              "\n",
              "  .colab-df-quickchart:hover {\n",
              "    background-color: var(--hover-bg-color);\n",
              "    box-shadow: 0 1px 2px rgba(60, 64, 67, 0.3), 0 1px 3px 1px rgba(60, 64, 67, 0.15);\n",
              "    fill: var(--button-hover-fill-color);\n",
              "  }\n",
              "\n",
              "  .colab-df-quickchart-complete:disabled,\n",
              "  .colab-df-quickchart-complete:disabled:hover {\n",
              "    background-color: var(--disabled-bg-color);\n",
              "    fill: var(--disabled-fill-color);\n",
              "    box-shadow: none;\n",
              "  }\n",
              "\n",
              "  .colab-df-spinner {\n",
              "    border: 2px solid var(--fill-color);\n",
              "    border-color: transparent;\n",
              "    border-bottom-color: var(--fill-color);\n",
              "    animation:\n",
              "      spin 1s steps(1) infinite;\n",
              "  }\n",
              "\n",
              "  @keyframes spin {\n",
              "    0% {\n",
              "      border-color: transparent;\n",
              "      border-bottom-color: var(--fill-color);\n",
              "      border-left-color: var(--fill-color);\n",
              "    }\n",
              "    20% {\n",
              "      border-color: transparent;\n",
              "      border-left-color: var(--fill-color);\n",
              "      border-top-color: var(--fill-color);\n",
              "    }\n",
              "    30% {\n",
              "      border-color: transparent;\n",
              "      border-left-color: var(--fill-color);\n",
              "      border-top-color: var(--fill-color);\n",
              "      border-right-color: var(--fill-color);\n",
              "    }\n",
              "    40% {\n",
              "      border-color: transparent;\n",
              "      border-right-color: var(--fill-color);\n",
              "      border-top-color: var(--fill-color);\n",
              "    }\n",
              "    60% {\n",
              "      border-color: transparent;\n",
              "      border-right-color: var(--fill-color);\n",
              "    }\n",
              "    80% {\n",
              "      border-color: transparent;\n",
              "      border-right-color: var(--fill-color);\n",
              "      border-bottom-color: var(--fill-color);\n",
              "    }\n",
              "    90% {\n",
              "      border-color: transparent;\n",
              "      border-bottom-color: var(--fill-color);\n",
              "    }\n",
              "  }\n",
              "</style>\n",
              "\n",
              "  <script>\n",
              "    async function quickchart(key) {\n",
              "      const quickchartButtonEl =\n",
              "        document.querySelector('#' + key + ' button');\n",
              "      quickchartButtonEl.disabled = true;  // To prevent multiple clicks.\n",
              "      quickchartButtonEl.classList.add('colab-df-spinner');\n",
              "      try {\n",
              "        const charts = await google.colab.kernel.invokeFunction(\n",
              "            'suggestCharts', [key], {});\n",
              "      } catch (error) {\n",
              "        console.error('Error during call to suggestCharts:', error);\n",
              "      }\n",
              "      quickchartButtonEl.classList.remove('colab-df-spinner');\n",
              "      quickchartButtonEl.classList.add('colab-df-quickchart-complete');\n",
              "    }\n",
              "    (() => {\n",
              "      let quickchartButtonEl =\n",
              "        document.querySelector('#df-f9ed046c-2082-40b8-bf29-87ae8d76cd09 button');\n",
              "      quickchartButtonEl.style.display =\n",
              "        google.colab.kernel.accessAllowed ? 'block' : 'none';\n",
              "    })();\n",
              "  </script>\n",
              "</div>\n",
              "\n",
              "  <div id=\"id_89a8ba06-c1cb-40cf-a9ee-b164ab2025a3\">\n",
              "    <style>\n",
              "      .colab-df-generate {\n",
              "        background-color: #E8F0FE;\n",
              "        border: none;\n",
              "        border-radius: 50%;\n",
              "        cursor: pointer;\n",
              "        display: none;\n",
              "        fill: #1967D2;\n",
              "        height: 32px;\n",
              "        padding: 0 0 0 0;\n",
              "        width: 32px;\n",
              "      }\n",
              "\n",
              "      .colab-df-generate:hover {\n",
              "        background-color: #E2EBFA;\n",
              "        box-shadow: 0px 1px 2px rgba(60, 64, 67, 0.3), 0px 1px 3px 1px rgba(60, 64, 67, 0.15);\n",
              "        fill: #174EA6;\n",
              "      }\n",
              "\n",
              "      [theme=dark] .colab-df-generate {\n",
              "        background-color: #3B4455;\n",
              "        fill: #D2E3FC;\n",
              "      }\n",
              "\n",
              "      [theme=dark] .colab-df-generate:hover {\n",
              "        background-color: #434B5C;\n",
              "        box-shadow: 0px 1px 3px 1px rgba(0, 0, 0, 0.15);\n",
              "        filter: drop-shadow(0px 1px 2px rgba(0, 0, 0, 0.3));\n",
              "        fill: #FFFFFF;\n",
              "      }\n",
              "    </style>\n",
              "    <button class=\"colab-df-generate\" onclick=\"generateWithVariable('df_non_pixel_photo')\"\n",
              "            title=\"Generate code using this dataframe.\"\n",
              "            style=\"display:none;\">\n",
              "\n",
              "  <svg xmlns=\"http://www.w3.org/2000/svg\" height=\"24px\"viewBox=\"0 0 24 24\"\n",
              "       width=\"24px\">\n",
              "    <path d=\"M7,19H8.4L18.45,9,17,7.55,7,17.6ZM5,21V16.75L18.45,3.32a2,2,0,0,1,2.83,0l1.4,1.43a1.91,1.91,0,0,1,.58,1.4,1.91,1.91,0,0,1-.58,1.4L9.25,21ZM18.45,9,17,7.55Zm-12,3A5.31,5.31,0,0,0,4.9,8.1,5.31,5.31,0,0,0,1,6.5,5.31,5.31,0,0,0,4.9,4.9,5.31,5.31,0,0,0,6.5,1,5.31,5.31,0,0,0,8.1,4.9,5.31,5.31,0,0,0,12,6.5,5.46,5.46,0,0,0,6.5,12Z\"/>\n",
              "  </svg>\n",
              "    </button>\n",
              "    <script>\n",
              "      (() => {\n",
              "      const buttonEl =\n",
              "        document.querySelector('#id_89a8ba06-c1cb-40cf-a9ee-b164ab2025a3 button.colab-df-generate');\n",
              "      buttonEl.style.display =\n",
              "        google.colab.kernel.accessAllowed ? 'block' : 'none';\n",
              "\n",
              "      buttonEl.onclick = () => {\n",
              "        google.colab.notebook.generateWithVariable('df_non_pixel_photo');\n",
              "      }\n",
              "      })();\n",
              "    </script>\n",
              "  </div>\n",
              "\n",
              "    </div>\n",
              "  </div>\n"
            ]
          },
          "metadata": {},
          "execution_count": 13
        }
      ]
    },
    {
      "cell_type": "code",
      "source": [
        "plt.figure(figsize=(15,8))\n",
        "ax = sns.countplot(data=df_pixel_photo, x = df_pixel_photo['no_num_classes'], hue=df_pixel_photo['ds_id'],hue_order=hue_name)\n",
        "\n",
        "for p in ax.patches:\n",
        "  height = p.get_height()\n",
        "  ax.text(p.get_x() + p.get_width()/2., height+10, height, ha='center', size=12)\n",
        "\n",
        "ax.set_ylim(-5,900)\n",
        "plt.show()"
      ],
      "metadata": {
        "colab": {
          "base_uri": "https://localhost:8080/",
          "height": 474
        },
        "id": "lNgqHxK1hPn1",
        "outputId": "dfb79bd2-bfc7-4284-8f75-16b90b0c01f0"
      },
      "execution_count": 14,
      "outputs": [
        {
          "output_type": "display_data",
          "data": {
            "text/plain": [
              "<Figure size 1500x800 with 1 Axes>"
            ],
            "image/png": "[encoded data removed]"
          },
          "metadata": {}
        }
      ]
    },
    {
      "cell_type": "code",
      "source": [
        "strings_1 = 'images/ds10_pexels-photo-687782.png'\n",
        "strings_1.split('/')[1]"
      ],
      "metadata": {
        "colab": {
          "base_uri": "https://localhost:8080/",
          "height": 35
        },
        "id": "DhRandXe1XyA",
        "outputId": "e396d333-773e-454a-ecc4-bda2e93bea87"
      },
      "execution_count": 15,
      "outputs": [
        {
          "output_type": "execute_result",
          "data": {
            "text/plain": [
              "'ds10_pexels-photo-687782.png'"
            ],
            "application/vnd.google.colaboratory.intrinsic+json": {
              "type": "string"
            }
          },
          "metadata": {},
          "execution_count": 15
        }
      ]
    },
    {
      "cell_type": "code",
      "source": [
        "data_dir"
      ],
      "metadata": {
        "colab": {
          "base_uri": "https://localhost:8080/",
          "height": 35
        },
        "id": "5rmtw_uAy3LG",
        "outputId": "ebed1605-2f00-48b8-9ecd-75ab6422d5f5"
      },
      "execution_count": 16,
      "outputs": [
        {
          "output_type": "execute_result",
          "data": {
            "text/plain": [
              "'/content/drive/MyDrive/DataSet/human_segmentation/'"
            ],
            "application/vnd.google.colaboratory.intrinsic+json": {
              "type": "string"
            }
          },
          "metadata": {},
          "execution_count": 16
        }
      ]
    },
    {
      "cell_type": "code",
      "source": [
        "path_ids_data = df[['images','masks']]"
      ],
      "metadata": {
        "id": "8tbi469d6CMM"
      },
      "execution_count": 17,
      "outputs": []
    },
    {
      "cell_type": "code",
      "source": [
        "sub_index = 5\n",
        "img_name, mask_name = path_ids_data.iloc[sub_index].values\n",
        "\n",
        "img_path = os.path.join(data_dir, img_name)\n",
        "mask_path = os.path.join(data_dir,mask_name)\n",
        "\n",
        "image = cv2.imread(img_path)\n",
        "mask = cv2.imread(mask_path)\n",
        "\n",
        "# jpeg일 경우\n",
        "  # thres = 240\n",
        "  # mask[mask < thres] = 0\n",
        "  # mask[mask > thres] = 255\n",
        "\n",
        "plt.figure(figsize=(8,6))\n",
        "plt.subplot(121)\n",
        "plt.title('image')\n",
        "plt.imshow(image)\n",
        "\n",
        "plt.subplot(122)\n",
        "plt.title('mask')\n",
        "plt.imshow(mask)\n",
        "plt.tight_layout()"
      ],
      "metadata": {
        "colab": {
          "base_uri": "https://localhost:8080/",
          "height": 289
        },
        "id": "v0amoR-vyi1V",
        "outputId": "ea959e9f-ae81-4f1c-8869-587cedb0ad92"
      },
      "execution_count": 18,
      "outputs": [
        {
          "output_type": "display_data",
          "data": {
            "text/plain": [
              "<Figure size 800x600 with 2 Axes>"
            ],
            "image/png": "[encoded data removed]"
          },
          "metadata": {}
        }
      ]
    },
    {
      "cell_type": "code",
      "source": [
        "mask.shape"
      ],
      "metadata": {
        "colab": {
          "base_uri": "https://localhost:8080/"
        },
        "id": "6JOBnWAi672b",
        "outputId": "eb4ecbeb-0947-46a2-9b44-1f21e4363c54"
      },
      "execution_count": 19,
      "outputs": [
        {
          "output_type": "execute_result",
          "data": {
            "text/plain": [
              "(800, 1267, 3)"
            ]
          },
          "metadata": {},
          "execution_count": 19
        }
      ]
    },
    {
      "cell_type": "code",
      "source": [
        "#plt.imshow(mask[..., 0])  # 여러개 있을 때 0, 1, 2 등 확인 가능"
      ],
      "metadata": {
        "id": "tQsfHKE08FmK"
      },
      "execution_count": null,
      "outputs": []
    },
    {
      "cell_type": "code",
      "source": [
        "np.unique(mask)"
      ],
      "metadata": {
        "colab": {
          "base_uri": "https://localhost:8080/"
        },
        "id": "429d3jjK4EHV",
        "outputId": "76529fa4-26bc-4e7a-a6c0-5f6e7b001a74"
      },
      "execution_count": 20,
      "outputs": [
        {
          "output_type": "execute_result",
          "data": {
            "text/plain": [
              "array([  0, 255], dtype=uint8)"
            ]
          },
          "metadata": {},
          "execution_count": 20
        }
      ]
    },
    {
      "cell_type": "code",
      "source": [
        "# 클래스 여러개 있을 때\n",
        "seg_region = ['background','people']\n",
        "colors = ((0,0,0),(255,255,255))"
      ],
      "metadata": {
        "id": "ZlPNXS_t8eUh"
      },
      "execution_count": 21,
      "outputs": []
    },
    {
      "cell_type": "markdown",
      "source": [
        "### 데이터셋 구축 및 텐서 변환 모듈 작성"
      ],
      "metadata": {
        "id": "kHrPmVDp_pxA"
      }
    },
    {
      "cell_type": "code",
      "source": [
        "import torch"
      ],
      "metadata": {
        "id": "jmUqyvWB-EOt"
      },
      "execution_count": 22,
      "outputs": []
    },
    {
      "cell_type": "code",
      "source": [
        "data_dir"
      ],
      "metadata": {
        "colab": {
          "base_uri": "https://localhost:8080/",
          "height": 35
        },
        "id": "Fz9eHoBHaco7",
        "outputId": "c894ebe9-c552-4ede-c578-bfb9f0ed20a9"
      },
      "execution_count": 23,
      "outputs": [
        {
          "output_type": "execute_result",
          "data": {
            "text/plain": [
              "'/content/drive/MyDrive/DataSet/human_segmentation/'"
            ],
            "application/vnd.google.colaboratory.intrinsic+json": {
              "type": "string"
            }
          },
          "metadata": {},
          "execution_count": 23
        }
      ]
    },
    {
      "cell_type": "code",
      "source": [
        "#!pip install split-folders[full]"
      ],
      "metadata": {
        "id": "jiw6rgTALYdp"
      },
      "execution_count": null,
      "outputs": []
    },
    {
      "cell_type": "code",
      "source": [
        "#import splitfolders"
      ],
      "metadata": {
        "id": "kb01h5qfMCMJ"
      },
      "execution_count": null,
      "outputs": []
    },
    {
      "cell_type": "code",
      "source": [
        "# data split (train:val:test) # train : val로만 나눌 경우 2개 인자만 입력\n",
        "#splitfolders.ratio(input=data_dir, output = \"/content/drive/MyDrive/DataSet/human_segmentation_split\", seed =2024, ratio=(0.8,0.2))"
      ],
      "metadata": {
        "colab": {
          "base_uri": "https://localhost:8080/"
        },
        "id": "xL5mnWV7LjZM",
        "outputId": "9df37646-2dca-41a1-857b-d68454cd8575"
      },
      "execution_count": null,
      "outputs": [
        {
          "output_type": "stream",
          "name": "stderr",
          "text": [
            "Copying files: 8001 files [17:06,  7.79 files/s]\n"
          ]
        }
      ]
    },
    {
      "cell_type": "code",
      "source": [
        "data_dir2 = \"/content/drive/MyDrive/DataSet/human_segmentation_split\""
      ],
      "metadata": {
        "id": "0Ds7BkJ-NcAX"
      },
      "execution_count": 24,
      "outputs": []
    },
    {
      "cell_type": "markdown",
      "source": [
        "\n",
        "\n",
        "```\n",
        "data_dir\n",
        "  ㄴ images  : *.png\n",
        "  ㄴ masks   : *.png\n",
        "```\n",
        "\n"
      ],
      "metadata": {
        "id": "mr46ODXJakgM"
      }
    },
    {
      "cell_type": "code",
      "source": [
        "IMAGE_SIZE =224"
      ],
      "metadata": {
        "id": "gbGmTA9vC0F7"
      },
      "execution_count": 25,
      "outputs": []
    },
    {
      "cell_type": "code",
      "source": [
        "class human_dataset():\n",
        "  def __init__(self, data_dir, phase, transformer=None):\n",
        "    self.phase = phase                                    # phase : train, eval, test mode\n",
        "    self.images_dir = os.path.join(data_dir, phase, \"images\")\n",
        "    self.masks_dir = os.path.join(data_dir, phase, \"masks\")\n",
        "    # listdir 내 파일들을 확장자가 png이면 list로\n",
        "    self.image_files = [filename for filename in os.listdir(self.images_dir) if filename.endswith(\"png\")]\n",
        "    self.mask_files = [filename for filename in os.listdir(self.masks_dir) if filename.endswith(\"png\")]\n",
        "    assert len(self.image_files) == len(self.mask_files)\n",
        "\n",
        "    self.transformer = transformer\n",
        "\n",
        "  def __len__(self,):\n",
        "    return len(self.image_files)\n",
        "\n",
        "  def __getitem__(self, index):\n",
        "    image = cv2.imread(os.path.join(self.images_dir, self.image_files[index]))\n",
        "    image = cv2.resize(image, dsize=(IMAGE_SIZE, IMAGE_SIZE), interpolation=cv2.INTER_LINEAR)\n",
        "    # mask의 경우 resize 할 때 근접 픽셀로 값 채우는 비선형 방식으로 resize 필요\n",
        "    mask = cv2.imread(os.path.join(self.masks_dir, self.mask_files[index]))\n",
        "    mask = cv2.resize(mask, dsize=(IMAGE_SIZE, IMAGE_SIZE), interpolation=cv2.INTER_NEAREST)\n",
        "\n",
        "    # 뭉게진 부분 처리\n",
        "    mask[mask < 240] = 0\n",
        "    mask[mask >=240] = 255\n",
        "    mask = mask/255. # (0~1)\n",
        "\n",
        "    mask_H, mask_W, mask_C = mask.shape\n",
        "    background = np.ones(shape = (mask_H, mask_W))\n",
        "    background[mask[..., 0] != 0] = 0 # background에 대한 target 별도 지정\n",
        "    background[mask[..., 1] != 0] = 0 # 아무것도 아닌 영역은 다 0으로\n",
        "    background[mask[..., 2] != 0] = 0\n",
        "    mask = np.concatenate([np.expand_dims(background, axis=-1), mask], axis=-1)\n",
        "    mask = np.argmax(mask, axis=-1, keepdims=False)\n",
        "\n",
        "    if self.transformer :\n",
        "      image = self.transformer(image)\n",
        "\n",
        "    # 마스크의 경우 torch 변환 필요, pixel 단위로 integer 형태로 변환\n",
        "    target = torch.from_numpy(mask).long()\n",
        "    return image, target"
      ],
      "metadata": {
        "id": "E8MP9ay7_up9"
      },
      "execution_count": 26,
      "outputs": []
    },
    {
      "cell_type": "code",
      "source": [
        "from torchvision import transforms\n",
        "\n",
        "def build_transformer():\n",
        "  transformer = transforms.Compose([\n",
        "      transforms.ToTensor(), # 0~1로 normalize\n",
        "      transforms.Normalize(mean=[0.485, 0.456, 0.406], std=[0.229, 0.224, 0.225]) # imagenet의 mean, std\n",
        "  ])\n",
        "  return transformer"
      ],
      "metadata": {
        "id": "Lgemm5Z_HarL"
      },
      "execution_count": 27,
      "outputs": []
    },
    {
      "cell_type": "code",
      "source": [
        "def collate_fn(batch):\n",
        "  '''\n",
        "  dataloader에 들어갈 부분\n",
        "  edge 형태로 데이터가 구성될 때 개별 이미지, 라벨 데이터셋을 어떻게 minibatch 형태로 구성할지'''\n",
        "  images = []\n",
        "  targets = []\n",
        "  for a, b in batch:\n",
        "    images.append(a)\n",
        "    targets.append(b)\n",
        "  images = torch.stack(images, dim=0)\n",
        "  targets = torch.stack(targets, dim=0)\n",
        "  return images, targets"
      ],
      "metadata": {
        "id": "b90cXaypJUT3"
      },
      "execution_count": 28,
      "outputs": []
    },
    {
      "cell_type": "code",
      "source": [
        "data_dir2"
      ],
      "metadata": {
        "colab": {
          "base_uri": "https://localhost:8080/",
          "height": 35
        },
        "id": "XKVBAD9zKMRU",
        "outputId": "a397194a-47a9-454b-a89e-b6f33dd0d399"
      },
      "execution_count": 29,
      "outputs": [
        {
          "output_type": "execute_result",
          "data": {
            "text/plain": [
              "'/content/drive/MyDrive/DataSet/human_segmentation_split'"
            ],
            "application/vnd.google.colaboratory.intrinsic+json": {
              "type": "string"
            }
          },
          "metadata": {},
          "execution_count": 29
        }
      ]
    },
    {
      "cell_type": "code",
      "source": [
        "transformer = build_transformer()\n",
        "dset = human_dataset(data_dir=data_dir2, phase='train', transformer=transformer)"
      ],
      "metadata": {
        "id": "k0Q9-CqgKKxX"
      },
      "execution_count": 30,
      "outputs": []
    },
    {
      "cell_type": "code",
      "source": [
        "dset[0]"
      ],
      "metadata": {
        "colab": {
          "base_uri": "https://localhost:8080/"
        },
        "id": "Xm19xXJHQRl4",
        "outputId": "a72bdd34-7d0d-4b3c-bd1e-f660c009d8fc"
      },
      "execution_count": 31,
      "outputs": [
        {
          "output_type": "execute_result",
          "data": {
            "text/plain": [
              "(tensor([[[-1.2788, -1.2103, -1.2788,  ..., -1.5528, -1.5870, -1.5528],\n",
              "          [-1.3130, -1.2274, -1.2445,  ..., -1.5699, -1.5357, -1.5014],\n",
              "          [-1.3130, -1.2617, -1.2445,  ..., -1.5870, -1.5870, -1.5185],\n",
              "          ...,\n",
              "          [-1.5185, -1.5699, -1.5185,  ..., -1.6727, -1.7412, -1.5699],\n",
              "          [-1.5185, -1.5699, -1.5870,  ..., -1.6727, -1.7583, -1.5528],\n",
              "          [-1.5185, -1.5357, -1.5699,  ..., -1.6898, -1.7412, -1.6384]],\n",
              " \n",
              "         [[-1.3529, -1.3004, -1.3354,  ..., -1.5455, -1.5805, -1.5280],\n",
              "          [-1.3704, -1.3004, -1.3004,  ..., -1.5455, -1.5280, -1.4930],\n",
              "          [-1.3880, -1.3179, -1.3004,  ..., -1.5630, -1.5630, -1.5280],\n",
              "          ...,\n",
              "          [-1.5105, -1.5455, -1.5105,  ..., -1.6506, -1.6856, -1.5455],\n",
              "          [-1.5280, -1.5455, -1.5805,  ..., -1.6506, -1.7031, -1.5280],\n",
              "          [-1.5280, -1.5455, -1.5630,  ..., -1.6681, -1.6856, -1.6155]],\n",
              " \n",
              "         [[-1.1944, -1.1421, -1.1770,  ..., -1.3339, -1.3687, -1.3164],\n",
              "          [-1.2119, -1.1247, -1.1421,  ..., -1.3339, -1.3164, -1.2816],\n",
              "          [-1.2293, -1.1596, -1.1421,  ..., -1.3513, -1.3513, -1.3164],\n",
              "          ...,\n",
              "          [-1.2641, -1.3339, -1.2641,  ..., -1.4210, -1.4733, -1.3339],\n",
              "          [-1.2816, -1.3513, -1.3339,  ..., -1.4384, -1.4907, -1.3164],\n",
              "          [-1.2816, -1.2990, -1.3164,  ..., -1.4559, -1.4733, -1.4036]]]),\n",
              " tensor([[0, 0, 0,  ..., 0, 0, 0],\n",
              "         [0, 0, 0,  ..., 0, 0, 0],\n",
              "         [0, 0, 0,  ..., 0, 0, 0],\n",
              "         ...,\n",
              "         [0, 0, 0,  ..., 0, 0, 0],\n",
              "         [0, 0, 0,  ..., 0, 0, 0],\n",
              "         [0, 0, 0,  ..., 0, 0, 0]]))"
            ]
          },
          "metadata": {},
          "execution_count": 31
        }
      ]
    },
    {
      "cell_type": "code",
      "source": [
        "image , target = dset[0]\n",
        "print(f'Image  shape : {image.shape}')  # C, H, W\n",
        "print(f'target shape : {target.shape}') # 이미지 크기"
      ],
      "metadata": {
        "colab": {
          "base_uri": "https://localhost:8080/"
        },
        "id": "2oyVokHLQZ7K",
        "outputId": "56e3df3e-9018-4095-c3c3-866d79b9408d"
      },
      "execution_count": 32,
      "outputs": [
        {
          "output_type": "stream",
          "name": "stdout",
          "text": [
            "Image  shape : torch.Size([3, 224, 224])\n",
            "target shape : torch.Size([224, 224])\n"
          ]
        }
      ]
    },
    {
      "cell_type": "code",
      "source": [
        "target.unique() # background index, 1번 클래스 id값"
      ],
      "metadata": {
        "colab": {
          "base_uri": "https://localhost:8080/"
        },
        "id": "_el1JgE-Q4Mx",
        "outputId": "6da2626c-17da-4052-d5bd-cf6392e2bf96"
      },
      "execution_count": 33,
      "outputs": [
        {
          "output_type": "execute_result",
          "data": {
            "text/plain": [
              "tensor([0, 1])"
            ]
          },
          "metadata": {},
          "execution_count": 33
        }
      ]
    },
    {
      "cell_type": "code",
      "source": [
        "from torch.utils.data import DataLoader"
      ],
      "metadata": {
        "id": "ltC96NTtRVoV"
      },
      "execution_count": 34,
      "outputs": []
    },
    {
      "cell_type": "code",
      "source": [
        "dloader = DataLoader(dset, batch_size=4, shuffle=True, collate_fn=collate_fn)"
      ],
      "metadata": {
        "id": "93vyfz8SRSh5"
      },
      "execution_count": 35,
      "outputs": []
    },
    {
      "cell_type": "code",
      "source": [
        "for index, batch in enumerate(dloader):\n",
        "  images = batch[0]\n",
        "  targets = batch[1]\n",
        "  print(f'Images shape : {images.shape}')   # [3,244,244] 형태의 tensor형 image가 4개 들어가 0번에 stack\n",
        "  print(f'targets shape : {targets.shape}')\n",
        "\n",
        "  if index ==0:\n",
        "    break"
      ],
      "metadata": {
        "colab": {
          "base_uri": "https://localhost:8080/"
        },
        "id": "qvRtplJAR0ul",
        "outputId": "dc01f568-61e0-4191-a24c-671c9f772320"
      },
      "execution_count": 36,
      "outputs": [
        {
          "output_type": "stream",
          "name": "stdout",
          "text": [
            "Images shape : torch.Size([4, 3, 224, 224])\n",
            "targets shape : torch.Size([4, 224, 224])\n"
          ]
        }
      ]
    },
    {
      "cell_type": "code",
      "source": [
        "def build_dataloader(data_dir, batch_size=4):\n",
        "  transformer = build_transformer()\n",
        "\n",
        "  dataloaders = {}  # key값으로 다르게 동작할 수 있도록 dictionary 형태로\n",
        "  train_dataset = human_dataset(data_dir=data_dir2, phase='train', transformer=transformer)\n",
        "  dataloaders['train'] = DataLoader(train_dataset, batch_size=batch_size, shuffle=True, collate_fn=collate_fn)\n",
        "\n",
        "  val_dataset = human_dataset(data_dir=data_dir2, phase='val', transformer=transformer)\n",
        "  dataloaders['val'] = DataLoader(train_dataset, batch_size=1, shuffle=False, collate_fn=collate_fn)\n",
        "  return dataloaders"
      ],
      "metadata": {
        "id": "SAQ0qAIRUIKz"
      },
      "execution_count": 37,
      "outputs": []
    },
    {
      "cell_type": "code",
      "source": [
        "dataloaders = build_dataloader(data_dir=data_dir2)"
      ],
      "metadata": {
        "id": "wEt2nF8FVFMu"
      },
      "execution_count": 38,
      "outputs": []
    },
    {
      "cell_type": "code",
      "source": [
        "for phase in ['train','val']: # train loader한 번, validation loader 한 번\n",
        "  for index, batch in enumerate(dataloaders[phase]):\n",
        "    images = batch[0]\n",
        "    targets = batch[1]\n",
        "    print(f'Images  shape : {images.shape}')\n",
        "    print(f'targets shape : {targets.shape}')\n",
        "\n",
        "    if index ==0:\n",
        "      break"
      ],
      "metadata": {
        "colab": {
          "base_uri": "https://localhost:8080/"
        },
        "id": "ZY-BXuB0VhBd",
        "outputId": "6b95c137-a407-4138-b88b-1de71e736476"
      },
      "execution_count": 39,
      "outputs": [
        {
          "output_type": "stream",
          "name": "stdout",
          "text": [
            "Images  shape : torch.Size([4, 3, 224, 224])\n",
            "targets shape : torch.Size([4, 224, 224])\n",
            "Images  shape : torch.Size([1, 3, 224, 224])\n",
            "targets shape : torch.Size([1, 224, 224])\n"
          ]
        }
      ]
    },
    {
      "cell_type": "markdown",
      "source": [
        "## U-Net"
      ],
      "metadata": {
        "id": "f4hKSrl8WlQ8"
      }
    },
    {
      "cell_type": "markdown",
      "source": [
        "- Encoder 구현"
      ],
      "metadata": {
        "id": "52sP5KF_kqjc"
      }
    },
    {
      "cell_type": "code",
      "source": [
        "import torch\n",
        "import torch.nn as nn"
      ],
      "metadata": {
        "id": "7xcviYobWmyf"
      },
      "execution_count": 40,
      "outputs": []
    },
    {
      "cell_type": "code",
      "source": [
        "def ConvLayer(in_channels, out_channels):\n",
        "    layers = nn.Sequential(\n",
        "        nn.Conv2d(in_channels, out_channels, kernel_size=3, padding=1),\n",
        "        nn.BatchNorm2d(out_channels),\n",
        "        nn.ReLU(inplace=True),\n",
        "\n",
        "        nn.Conv2d(out_channels, out_channels, kernel_size=3, padding=1),\n",
        "        nn.BatchNorm2d(out_channels),\n",
        "        nn.ReLU(inplace=True),\n",
        "    )\n",
        "    return layers"
      ],
      "metadata": {
        "id": "gKE050vFXqy0"
      },
      "execution_count": 41,
      "outputs": []
    },
    {
      "cell_type": "code",
      "source": [
        "class Encoder(nn.Module):\n",
        "    def __init__(self):\n",
        "        super().__init__()\n",
        "        self.conv_block1 = ConvLayer(in_channels=3, out_channels=64)\n",
        "        self.conv_block2 = ConvLayer(in_channels=64, out_channels=128)\n",
        "        self.conv_block3 = ConvLayer(in_channels=128, out_channels=256)\n",
        "        self.conv_block4 = ConvLayer(in_channels=256, out_channels=512)\n",
        "        self.conv_block5 = ConvLayer(in_channels=512, out_channels=1024)\n",
        "        self.pool = nn.MaxPool2d(kernel_size=2)\n",
        "\n",
        "    def forward(self, x):\n",
        "        encode_features = []\n",
        "        out = self.conv_block1(x)\n",
        "        encode_features.append(out)\n",
        "        out = self.pool(out)\n",
        "\n",
        "        out = self.conv_block2(out)\n",
        "        encode_features.append(out)\n",
        "        out = self.pool(out)\n",
        "\n",
        "        out = self.conv_block3(out)\n",
        "        encode_features.append(out)\n",
        "        out = self.pool(out)\n",
        "\n",
        "        out = self.conv_block4(out)\n",
        "        encode_features.append(out)\n",
        "        out = self.pool(out)\n",
        "\n",
        "        out = self.conv_block5(out)\n",
        "        return out, encode_features"
      ],
      "metadata": {
        "id": "vf6cNaX5Zv3o"
      },
      "execution_count": 42,
      "outputs": []
    },
    {
      "cell_type": "markdown",
      "source": [
        "- encoder 잘 동작 여부 확인"
      ],
      "metadata": {
        "id": "l4FncYpMbwQ6"
      }
    },
    {
      "cell_type": "code",
      "source": [
        "encoder = Encoder()\n",
        "x = torch.randn(1, 3, 224, 224)\n",
        "out, ftrs = encoder(x)"
      ],
      "metadata": {
        "id": "p19Pjq-kkAFX"
      },
      "execution_count": 43,
      "outputs": []
    },
    {
      "cell_type": "code",
      "source": [
        "for ftr in ftrs:\n",
        "  print(ftr.shape)\n",
        "print(out.shape)"
      ],
      "metadata": {
        "colab": {
          "base_uri": "https://localhost:8080/"
        },
        "id": "vNPJatdckEtp",
        "outputId": "0e1b3d41-ee1a-425a-f72f-19cb2f2654fa"
      },
      "execution_count": 44,
      "outputs": [
        {
          "output_type": "stream",
          "name": "stdout",
          "text": [
            "torch.Size([1, 64, 224, 224])\n",
            "torch.Size([1, 128, 112, 112])\n",
            "torch.Size([1, 256, 56, 56])\n",
            "torch.Size([1, 512, 28, 28])\n",
            "torch.Size([1, 1024, 14, 14])\n"
          ]
        }
      ]
    },
    {
      "cell_type": "markdown",
      "source": [
        "- Decoder 구현"
      ],
      "metadata": {
        "id": "zGOrRO2Gknv7"
      }
    },
    {
      "cell_type": "code",
      "source": [
        "def UpConvLayer(in_channels, out_channels):\n",
        "    layers = nn.Sequential(\n",
        "        nn.ConvTranspose2d(in_channels, out_channels, kernel_size=2, stride=2),\n",
        "        nn.BatchNorm2d(out_channels),\n",
        "        nn.ReLU(inplace=True)\n",
        "    )\n",
        "    return layers"
      ],
      "metadata": {
        "id": "fpH2iCDPkpLd"
      },
      "execution_count": 45,
      "outputs": []
    },
    {
      "cell_type": "code",
      "source": [
        "class Decoder(nn.Module):\n",
        "    def __init__(self):\n",
        "        super().__init__()\n",
        "        self.upconv_layer1 = UpConvLayer(in_channels=1024, out_channels=512)\n",
        "        self.conv_block1 = ConvLayer(in_channels=512+512, out_channels=512)\n",
        "\n",
        "        self.upconv_layer2 = UpConvLayer(in_channels=512, out_channels=256)\n",
        "        self.conv_block2 = ConvLayer(in_channels=256+256, out_channels=256)\n",
        "\n",
        "        self.upconv_layer3 = UpConvLayer(in_channels=256, out_channels=128)\n",
        "        self.conv_block3 = ConvLayer(in_channels=128+128, out_channels=128)\n",
        "\n",
        "        self.upconv_layer4 = UpConvLayer(in_channels=128, out_channels=64)\n",
        "        self.conv_block4 = ConvLayer(in_channels=64+64, out_channels=64)\n",
        "\n",
        "    def forward(self, x, encoder_features):\n",
        "        out = self.upconv_layer1(x)\n",
        "        croped_enc_feature = self._center_crop(encoder_features[-1], out.shape[2:])\n",
        "        out = torch.cat([out, croped_enc_feature], dim=1)\n",
        "        out = self.conv_block1(out)\n",
        "\n",
        "        out = self.upconv_layer2(out)\n",
        "        croped_enc_feature = self._center_crop(encoder_features[-2], out.shape[2:])\n",
        "        out = torch.cat([out, croped_enc_feature], dim=1)\n",
        "        out = self.conv_block2(out)\n",
        "\n",
        "        out = self.upconv_layer3(out)\n",
        "        croped_enc_feature = self._center_crop(encoder_features[-3], out.shape[2:])\n",
        "        out = torch.cat([out, croped_enc_feature], dim=1)\n",
        "        out = self.conv_block3(out)\n",
        "\n",
        "        out = self.upconv_layer4(out)\n",
        "        croped_enc_feature = self._center_crop(encoder_features[-4], out.shape[2:])\n",
        "        out = torch.cat([out, croped_enc_feature], dim=1)\n",
        "        out = self.conv_block4(out)\n",
        "        return out\n",
        "\n",
        "    def _center_crop(self, encoder_feature, decoder_feature_size):\n",
        "        croped_features = transforms.CenterCrop(size=decoder_feature_size)(encoder_feature)\n",
        "        return croped_features"
      ],
      "metadata": {
        "id": "tnqC2D5MlGBw"
      },
      "execution_count": 46,
      "outputs": []
    },
    {
      "cell_type": "code",
      "source": [
        "encoder = Encoder()\n",
        "decoder = Decoder()\n",
        "x = torch.randn(1,3,244,244)\n",
        "out, ftrs = encoder(x)\n",
        "out = decoder(out, ftrs)"
      ],
      "metadata": {
        "id": "LTysScR1otHn"
      },
      "execution_count": 47,
      "outputs": []
    },
    {
      "cell_type": "code",
      "source": [
        "print(out.shape)"
      ],
      "metadata": {
        "colab": {
          "base_uri": "https://localhost:8080/"
        },
        "id": "-kySyIagrPpO",
        "outputId": "75f64e2f-4e06-42da-d813-d820ad1b312e"
      },
      "execution_count": 48,
      "outputs": [
        {
          "output_type": "stream",
          "name": "stdout",
          "text": [
            "torch.Size([1, 64, 240, 240])\n"
          ]
        }
      ]
    },
    {
      "cell_type": "code",
      "source": [
        "import torch.nn.functional as F"
      ],
      "metadata": {
        "id": "Y9v8T4NHrT2P"
      },
      "execution_count": 49,
      "outputs": []
    },
    {
      "cell_type": "code",
      "source": [
        "class UNet(nn.Module):\n",
        "    def __init__(self, num_classes, retain_input_dim=True):\n",
        "        super().__init__()\n",
        "        self.encoder = Encoder()\n",
        "        self.decoder = Decoder()\n",
        "        self.head = nn.Conv2d(64, num_classes, kernel_size=1)\n",
        "        self.retain_input_dim = retain_input_dim\n",
        "\n",
        "    def forward(self, x):\n",
        "        out, encode_features = self.encoder(x)\n",
        "        out = self.decoder(out, encode_features)\n",
        "        out = self.head(out)\n",
        "        if self.retain_input_dim:\n",
        "            _, _, H, W = x.shape\n",
        "            out = F.interpolate(out, size=(H,W))\n",
        "        return out"
      ],
      "metadata": {
        "id": "BF7UuMWRraSU"
      },
      "execution_count": 50,
      "outputs": []
    },
    {
      "cell_type": "code",
      "source": [
        "model = UNet(num_classes=2)\n",
        "x = torch.randn(1, 3, 224, 224)\n",
        "out = model(x)\n",
        "print(f\"input shape: {x.shape}\")\n",
        "print(f\"output shape: {out.shape}\")"
      ],
      "metadata": {
        "colab": {
          "base_uri": "https://localhost:8080/"
        },
        "id": "KqaUcArlsCup",
        "outputId": "12a0c7d9-f044-4f3f-d802-8f1ca2b98d06"
      },
      "execution_count": 51,
      "outputs": [
        {
          "output_type": "stream",
          "name": "stdout",
          "text": [
            "input shape: torch.Size([1, 3, 224, 224])\n",
            "output shape: torch.Size([1, 2, 224, 224])\n"
          ]
        }
      ]
    },
    {
      "cell_type": "markdown",
      "source": [
        "## Loss"
      ],
      "metadata": {
        "id": "Tf_0sjy5BbYX"
      }
    },
    {
      "cell_type": "markdown",
      "source": [
        "- 혼합형으로 사용해 학습할 것\n",
        "  - Dice coefficient Loss\n",
        "  - Cross entropy Loss"
      ],
      "metadata": {
        "id": "Ac2kQzlZBdCa"
      }
    },
    {
      "cell_type": "markdown",
      "source": [
        "### Dice similarity coefficient (Dice coefficient)"
      ],
      "metadata": {
        "id": "jRjgPa9SsmlH"
      }
    },
    {
      "cell_type": "markdown",
      "source": [
        "- binary segmentation task에서 F1-score와 동일\n",
        "- 이점 : Precision와 Recall을 고려할 수 있음"
      ],
      "metadata": {
        "id": "u_Hz3-g35AGg"
      }
    },
    {
      "cell_type": "markdown",
      "source": [
        "- DC = 2 * (Pred 합 GT) / (Pred) + (GT)\n",
        "\n",
        "- Dice = 2|A교B| / (|A|+|B|) = 2TP / (2TP =FP +FN) == (Precision * Recall) * (Precision + Recall)"
      ],
      "metadata": {
        "id": "XkjQHRdhtmKb"
      }
    },
    {
      "cell_type": "markdown",
      "source": [
        "### Dice coefficient Loss"
      ],
      "metadata": {
        "id": "5OuBHAtf5xmc"
      }
    },
    {
      "cell_type": "markdown",
      "source": [
        "- Dice coefficient Loss = 1 - Dice coefficient"
      ],
      "metadata": {
        "id": "1tEtvbO_50Hx"
      }
    },
    {
      "cell_type": "code",
      "source": [
        "for index, batch in enumerate(dataloaders[\"train\"]):\n",
        "  images = batch[0]\n",
        "  targets = batch[1]\n",
        "  predictions = model(images)\n",
        "\n",
        "  if index ==0:\n",
        "    break"
      ],
      "metadata": {
        "id": "L6FvR0wKsirC"
      },
      "execution_count": 52,
      "outputs": []
    },
    {
      "cell_type": "code",
      "source": [
        "targets.shape"
      ],
      "metadata": {
        "colab": {
          "base_uri": "https://localhost:8080/"
        },
        "id": "RWOEIez16Ffo",
        "outputId": "0c90b7a0-3054-4c05-b62d-825aceeb79de"
      },
      "execution_count": 53,
      "outputs": [
        {
          "output_type": "execute_result",
          "data": {
            "text/plain": [
              "torch.Size([4, 224, 224])"
            ]
          },
          "metadata": {},
          "execution_count": 53
        }
      ]
    },
    {
      "cell_type": "code",
      "source": [
        "predictions.shape"
      ],
      "metadata": {
        "colab": {
          "base_uri": "https://localhost:8080/"
        },
        "id": "r3SeS6nK6Hgw",
        "outputId": "f7934abf-30f7-4a47-ec94-726d279df9df"
      },
      "execution_count": 54,
      "outputs": [
        {
          "output_type": "execute_result",
          "data": {
            "text/plain": [
              "torch.Size([4, 2, 224, 224])"
            ]
          },
          "metadata": {},
          "execution_count": 54
        }
      ]
    },
    {
      "cell_type": "code",
      "source": [
        "# one-hot encoding\n",
        "predictions_ = torch.argmax(predictions, dim=1) # output channel의 가장 큰 value를 prediction 값으로\n",
        "predictions_.shape"
      ],
      "metadata": {
        "colab": {
          "base_uri": "https://localhost:8080/"
        },
        "id": "IFyfSqzR6JPE",
        "outputId": "ce73e38a-9b9b-4740-8de5-6c800c20c580"
      },
      "execution_count": 55,
      "outputs": [
        {
          "output_type": "execute_result",
          "data": {
            "text/plain": [
              "torch.Size([4, 224, 224])"
            ]
          },
          "metadata": {},
          "execution_count": 55
        }
      ]
    },
    {
      "cell_type": "markdown",
      "source": [
        "\n",
        "\n",
        "```\n",
        "# one-hot\n",
        "1 -> [0, 1, 0, 0]\n",
        "2 -> [0, 0, 1, 0]\n",
        "```\n",
        "\n"
      ],
      "metadata": {
        "id": "MLSpJj4I7Rdm"
      }
    },
    {
      "cell_type": "code",
      "source": [
        "onehot_pred = F.one_hot(predictions_, num_classes=2)\n",
        "onehot_pred.shape"
      ],
      "metadata": {
        "colab": {
          "base_uri": "https://localhost:8080/"
        },
        "id": "bUTNvzEf6pzd",
        "outputId": "9a8d2a86-7ac3-46bc-9c48-a986b02f9255"
      },
      "execution_count": 56,
      "outputs": [
        {
          "output_type": "execute_result",
          "data": {
            "text/plain": [
              "torch.Size([4, 224, 224, 2])"
            ]
          },
          "metadata": {},
          "execution_count": 56
        }
      ]
    },
    {
      "cell_type": "code",
      "source": [
        "onehot_pred = onehot_pred.permute(0,3,1,2) # output channel 차원을 spatial resolution보다 앞에, batch는 첫번째\n",
        "onehot_target =  F.one_hot(targets, num_classes=2).permute(0,3,1,2)"
      ],
      "metadata": {
        "id": "XosSEYeE7f1f"
      },
      "execution_count": 57,
      "outputs": []
    },
    {
      "cell_type": "code",
      "source": [
        "onehot_target.shape # B, output channel, spatial resolution"
      ],
      "metadata": {
        "colab": {
          "base_uri": "https://localhost:8080/"
        },
        "id": "5RxmDva58EbH",
        "outputId": "75a0a6e1-fa8f-49ba-82f0-304fcd03dfe8"
      },
      "execution_count": 58,
      "outputs": [
        {
          "output_type": "execute_result",
          "data": {
            "text/plain": [
              "torch.Size([4, 2, 224, 224])"
            ]
          },
          "metadata": {},
          "execution_count": 58
        }
      ]
    },
    {
      "cell_type": "code",
      "source": [
        "num_classes = 2"
      ],
      "metadata": {
        "id": "I32JOH6Q9p_C"
      },
      "execution_count": 59,
      "outputs": []
    },
    {
      "cell_type": "code",
      "source": [
        "# batch 하나만 진행\n",
        "onehot_pred_ = onehot_pred[0]\n",
        "onehot_target_ = onehot_target[0]\n",
        "\n",
        "dice_coeff = 0\n",
        "for class_index in range(0,num_classes):\n",
        "  A = onehot_pred_[class_index]   # 1번 영역 prediction 영역 A\n",
        "  B = onehot_target_[class_index] # 1번 영역 타겟을 B\n",
        "  set_inter = torch.dot(A.reshape(-1).float(), B.reshape(-1).float())\n",
        "  set_sum = A.sum() + B.sum()\n",
        "  dice_coeff += (2 * set_inter) / (set_sum + 1e-8)\n",
        "\n",
        "dice_coeff /= (num_classes -1)"
      ],
      "metadata": {
        "id": "v8OoskNa8TFr"
      },
      "execution_count": 60,
      "outputs": []
    },
    {
      "cell_type": "code",
      "source": [
        "dice_coeff"
      ],
      "metadata": {
        "colab": {
          "base_uri": "https://localhost:8080/"
        },
        "id": "_u1raiAN9vCk",
        "outputId": "b7d989e8-4f2c-49e1-ff93-6884a67269b3"
      },
      "execution_count": 61,
      "outputs": [
        {
          "output_type": "execute_result",
          "data": {
            "text/plain": [
              "tensor(0.8471)"
            ]
          },
          "metadata": {},
          "execution_count": 61
        }
      ]
    },
    {
      "cell_type": "code",
      "source": [
        "dice_loss = 1 - dice_coeff\n",
        "dice_loss"
      ],
      "metadata": {
        "colab": {
          "base_uri": "https://localhost:8080/"
        },
        "id": "txtI-sjn93Bs",
        "outputId": "be58b192-29dc-4486-fa32-398c92d6072b"
      },
      "execution_count": 62,
      "outputs": [
        {
          "output_type": "execute_result",
          "data": {
            "text/plain": [
              "tensor(0.1529)"
            ]
          },
          "metadata": {},
          "execution_count": 62
        }
      ]
    },
    {
      "cell_type": "code",
      "source": [
        "class UNet_metric():\n",
        "    def __init__(self, num_classes):\n",
        "        self.num_classes = num_classes\n",
        "        self.CE_loss = nn.CrossEntropyLoss(reduction=\"mean\")\n",
        "\n",
        "    def __call__(self, pred, target):\n",
        "        loss1 = self.CE_loss(pred, target)\n",
        "        onehot_pred = F.one_hot(torch.argmax(pred, dim=1), num_classes=self.num_classes).permute(0, 3, 1, 2)\n",
        "        onehot_target = F.one_hot(target, num_classes=self.num_classes).permute(0, 3, 1, 2)\n",
        "        loss2 = self._get_dice_loss(onehot_pred, onehot_target)\n",
        "        loss = loss1 + loss2\n",
        "\n",
        "        dice_coefficient = self._get_batch_dice_coefficient(onehot_pred, onehot_target)\n",
        "        return loss, dice_coefficient\n",
        "\n",
        "    def _get_dice_coeffient(self, pred, target):\n",
        "        set_inter = torch.dot(pred.reshape(-1).float(), target.reshape(-1).float())\n",
        "        set_sum = pred.sum() + target.sum()\n",
        "        # 예외사항 (예측, target 클래스 없다)\n",
        "        if set_sum.item() == 0:\n",
        "            set_sum = 2 * set_inter # loss 0으로 만들어 학습하지 않도록\n",
        "        dice_coeff = (2 * set_inter) / (set_sum + 1e-9)\n",
        "        return dice_coeff\n",
        "\n",
        "    def _get_multiclass_dice_coefficient(self, pred, target):\n",
        "        dice = 0\n",
        "        for class_index in range(1, self.num_classes):\n",
        "            dice += self._get_dice_coeffient(pred[class_index], target[class_index])\n",
        "        return dice / (self.num_classes - 1)\n",
        "\n",
        "    def _get_batch_dice_coefficient(self, pred, target):\n",
        "        num_batch = pred.shape[0]\n",
        "        dice = 0\n",
        "        for batch_index in range(num_batch):\n",
        "            dice += self._get_multiclass_dice_coefficient(pred[batch_index], target[batch_index])\n",
        "        return dice / num_batch\n",
        "\n",
        "    def _get_dice_loss(self, pred, target):\n",
        "        return 1 - self._get_batch_dice_coefficient(pred, target)"
      ],
      "metadata": {
        "id": "Vtd25QSj9-EJ"
      },
      "execution_count": 63,
      "outputs": []
    },
    {
      "cell_type": "code",
      "source": [
        "criterion = UNet_metric(num_classes=2)\n",
        "criterion(predictions, targets)"
      ],
      "metadata": {
        "colab": {
          "base_uri": "https://localhost:8080/"
        },
        "id": "HGQFpe6u_SJv",
        "outputId": "e7f5a944-c210-45de-dc5f-489b8b6d032e"
      },
      "execution_count": 64,
      "outputs": [
        {
          "output_type": "execute_result",
          "data": {
            "text/plain": [
              "(tensor(1.4142, grad_fn=<AddBackward0>), tensor(0.3119))"
            ]
          },
          "metadata": {},
          "execution_count": 64
        }
      ]
    },
    {
      "cell_type": "code",
      "source": [
        "for index, batch in enumerate(dataloaders[\"train\"]):\n",
        "  images = batch[0]\n",
        "  targets = batch[1]\n",
        "  predictions = model(images)\n",
        "  loss, dice_coeff = criterion(predictions, targets)\n",
        "  print(f'loss: {loss:.4f}, dice coeff: {dice_coeff:.4f}')\n",
        "\n",
        "  if index ==0:\n",
        "    break"
      ],
      "metadata": {
        "colab": {
          "base_uri": "https://localhost:8080/"
        },
        "id": "Jo4-Yl1V_sY5",
        "outputId": "c26d6bc9-c3d6-4ba3-86cf-c91d8b7d454d"
      },
      "execution_count": 65,
      "outputs": [
        {
          "output_type": "stream",
          "name": "stdout",
          "text": [
            "loss: 1.3797, dice coeff: 0.3450\n"
          ]
        }
      ]
    },
    {
      "cell_type": "code",
      "source": [
        "loss.backward()"
      ],
      "metadata": {
        "id": "8xdKMjOWEWgD"
      },
      "execution_count": 66,
      "outputs": []
    },
    {
      "cell_type": "markdown",
      "source": [
        "- backward 위한 optimizer 정의"
      ],
      "metadata": {
        "id": "MTTGN_taElKG"
      }
    },
    {
      "cell_type": "code",
      "source": [
        "optimizer = torch.optim.SGD(model.parameters(), lr=0.001, momentum=0.9)"
      ],
      "metadata": {
        "id": "E-LACJzBEaFl"
      },
      "execution_count": 67,
      "outputs": []
    },
    {
      "cell_type": "code",
      "source": [
        "optimizer.step()"
      ],
      "metadata": {
        "id": "mYwCsSabEkjS"
      },
      "execution_count": 68,
      "outputs": []
    },
    {
      "cell_type": "markdown",
      "source": [
        "## Segmentation 학습 위한 코드 작성"
      ],
      "metadata": {
        "id": "GTa0w3JAEwDS"
      }
    },
    {
      "cell_type": "code",
      "source": [
        "def train_one_epoch(dataloaders, model, optimizer, criterion, device):\n",
        "    losses = {}\n",
        "    dice_coefficients = {}\n",
        "\n",
        "    for phase in [\"train\", \"val\"]:\n",
        "        running_loss = 0.0\n",
        "        running_dice_coeff = 0.0\n",
        "\n",
        "        if phase == \"train\":\n",
        "            model.train()\n",
        "        else:\n",
        "            model.eval()\n",
        "\n",
        "        for index, batch in enumerate(dataloaders[phase]):\n",
        "            images = batch[0].to(device)\n",
        "            targets = batch[1].to(device)\n",
        "\n",
        "            with torch.set_grad_enabled(phase == \"train\"):\n",
        "                predictions = model(images)\n",
        "                loss, dice_coefficient = criterion(predictions, targets)\n",
        "\n",
        "                if phase == \"train\":\n",
        "                    optimizer.zero_grad()\n",
        "                    loss.backward()\n",
        "                    optimizer.step()\n",
        "\n",
        "            running_loss += loss.item()\n",
        "            running_dice_coeff += dice_coefficient.item()\n",
        "\n",
        "            if phase == \"train\":\n",
        "                if index % 100 == 0:\n",
        "                    text = f\"{index}/{len(dataloaders[phase])}\" + \\\n",
        "                            f\" - Running Loss: {loss.item():.4f}\" + \\\n",
        "                            f\" - Running Dice: {dice_coefficient.item():.4f}\"\n",
        "                    print(text)\n",
        "\n",
        "        losses[phase] = running_loss / len(dataloaders[phase])\n",
        "        dice_coefficients[phase] = running_dice_coeff / len(dataloaders[phase])\n",
        "    return losses, dice_coefficients"
      ],
      "metadata": {
        "id": "lh8gqi9rEynn"
      },
      "execution_count": 69,
      "outputs": []
    },
    {
      "cell_type": "code",
      "source": [
        "data_dir2"
      ],
      "metadata": {
        "colab": {
          "base_uri": "https://localhost:8080/",
          "height": 35
        },
        "id": "CRN8oyufG-Go",
        "outputId": "0b14c27a-035c-4e0f-900b-11a1130c3263"
      },
      "execution_count": 70,
      "outputs": [
        {
          "output_type": "execute_result",
          "data": {
            "text/plain": [
              "'/content/drive/MyDrive/DataSet/human_segmentation_split'"
            ],
            "application/vnd.google.colaboratory.intrinsic+json": {
              "type": "string"
            }
          },
          "metadata": {},
          "execution_count": 70
        }
      ]
    },
    {
      "cell_type": "code",
      "source": [
        "is_cuda = True\n",
        "\n",
        "num_classes=2\n",
        "IMAGE_SIZE = 224\n",
        "BATCH_SIZE = 12\n",
        "DEVICE = torch.device('cuda' if torch.cuda.is_available() and is_cuda else 'cpu')\n",
        "\n",
        "dataloaders = build_dataloader(data_dir2, batch_size=BATCH_SIZE)\n",
        "model = UNet(num_classes=num_classes)\n",
        "model = model.to(DEVICE)\n",
        "criterion = UNet_metric(num_classes=num_classes)\n",
        "optimizer = torch.optim.SGD(model.parameters(), lr=0.001, momentum=0.9)"
      ],
      "metadata": {
        "id": "0Sy3-2cQJb_4"
      },
      "execution_count": 71,
      "outputs": []
    },
    {
      "cell_type": "code",
      "source": [
        "'''\n",
        "def save_model(model_state, model_name, save_dir='./trained_model'):\n",
        "  os.makedirs(save_dir, exist_ok=True)\n",
        "  torch.save(model_state, os.path.join(save_dir, model.name))\n",
        "'''"
      ],
      "metadata": {
        "id": "rXdjecjBSt-k"
      },
      "execution_count": null,
      "outputs": []
    },
    {
      "cell_type": "code",
      "source": [
        "num_epochs = 10\n",
        "\n",
        "best_epoch = 0\n",
        "best_score = 0.0\n",
        "train_loss, train_dice_coefficient = [], []\n",
        "val_loss, val_dice_coefficient = [], []\n",
        "\n",
        "for epoch in range(num_epochs):\n",
        "    losses, dice_coefficients = train_one_epoch(dataloaders, model, optimizer, criterion, DEVICE)\n",
        "    train_loss.append(losses[\"train\"])\n",
        "    val_loss.append(losses[\"val\"])\n",
        "    train_dice_coefficient.append(dice_coefficients[\"train\"])\n",
        "    val_dice_coefficient.append(dice_coefficients[\"val\"])\n",
        "\n",
        "    print(f\"{epoch}/{num_epochs} - Train Loss: {losses['train']:.4f}, Val Loss: {losses['val']:.4f}\")\n",
        "    print(f\"{epoch}/{num_epochs} - Train Dice Coeff: {dice_coefficients['train']:.4f}, Val Dice Coeff: {dice_coefficients['val']:.4f}\")\n",
        "\n",
        "    if (epoch > 3) and (dice_coefficients[\"val\"] > best_score):\n",
        "        best_epoch = epoch\n",
        "        best_score = dice_coefficients[\"val\"]\n",
        "        torch.save(model.state_dict(), f\"model_{epoch:02d}.pth\")\n",
        "\n",
        "print(f\"Best epoch: {best_epoch} -> Best Dice Coeffient: {best_score:.4f}\")"
      ],
      "metadata": {
        "colab": {
          "base_uri": "https://localhost:8080/"
        },
        "id": "-ltgKEj7Jr34",
        "outputId": "aaba2928-defa-44c6-db1f-1da7c1d01183"
      },
      "execution_count": 72,
      "outputs": [
        {
          "output_type": "stream",
          "name": "stdout",
          "text": [
            "0/178 - Running Loss: 1.3672 - Running Dice: 0.3580\n",
            "100/178 - Running Loss: 1.4353 - Running Dice: 0.1540\n",
            "0/10 - Train Loss: 1.4514, Val Loss: 1.4773\n",
            "0/10 - Train Dice Coeff: 0.1667, Val Dice Coeff: 0.1160\n",
            "0/178 - Running Loss: 1.5345 - Running Dice: 0.0832\n",
            "100/178 - Running Loss: 1.2499 - Running Dice: 0.3071\n",
            "1/10 - Train Loss: 1.2940, Val Loss: 1.1826\n",
            "1/10 - Train Dice Coeff: 0.2706, Val Dice Coeff: 0.3518\n",
            "0/178 - Running Loss: 1.1907 - Running Dice: 0.3552\n",
            "100/178 - Running Loss: 1.1393 - Running Dice: 0.3834\n",
            "2/10 - Train Loss: 1.1203, Val Loss: 1.0130\n",
            "2/10 - Train Dice Coeff: 0.4106, Val Dice Coeff: 0.5037\n",
            "0/178 - Running Loss: 1.0670 - Running Dice: 0.5040\n",
            "100/178 - Running Loss: 1.0229 - Running Dice: 0.4200\n",
            "3/10 - Train Loss: 1.0143, Val Loss: 0.9555\n",
            "3/10 - Train Dice Coeff: 0.5004, Val Dice Coeff: 0.5567\n",
            "0/178 - Running Loss: 1.0071 - Running Dice: 0.5107\n",
            "100/178 - Running Loss: 1.0437 - Running Dice: 0.5374\n",
            "4/10 - Train Loss: 0.9827, Val Loss: 1.0256\n",
            "4/10 - Train Dice Coeff: 0.5241, Val Dice Coeff: 0.4736\n",
            "0/178 - Running Loss: 0.9087 - Running Dice: 0.5757\n",
            "100/178 - Running Loss: 0.9977 - Running Dice: 0.5263\n",
            "5/10 - Train Loss: 0.9610, Val Loss: 0.9234\n",
            "5/10 - Train Dice Coeff: 0.5393, Val Dice Coeff: 0.5609\n",
            "0/178 - Running Loss: 0.8791 - Running Dice: 0.5845\n",
            "100/178 - Running Loss: 0.8909 - Running Dice: 0.5810\n",
            "6/10 - Train Loss: 0.9517, Val Loss: 0.9384\n",
            "6/10 - Train Dice Coeff: 0.5432, Val Dice Coeff: 0.5572\n",
            "0/178 - Running Loss: 0.9086 - Running Dice: 0.5254\n",
            "100/178 - Running Loss: 0.8874 - Running Dice: 0.6150\n",
            "7/10 - Train Loss: 0.9293, Val Loss: 0.8934\n",
            "7/10 - Train Dice Coeff: 0.5587, Val Dice Coeff: 0.5809\n",
            "0/178 - Running Loss: 0.8051 - Running Dice: 0.6081\n",
            "100/178 - Running Loss: 0.9872 - Running Dice: 0.4536\n",
            "8/10 - Train Loss: 0.9238, Val Loss: 1.0593\n",
            "8/10 - Train Dice Coeff: 0.5585, Val Dice Coeff: 0.4283\n",
            "0/178 - Running Loss: 1.0094 - Running Dice: 0.5113\n",
            "100/178 - Running Loss: 0.8812 - Running Dice: 0.6371\n",
            "9/10 - Train Loss: 0.9075, Val Loss: 0.8643\n",
            "9/10 - Train Dice Coeff: 0.5671, Val Dice Coeff: 0.6115\n",
            "Best epoch: 9 -> Best Dice Coeffient: 0.6115\n"
          ]
        }
      ]
    },
    {
      "cell_type": "code",
      "source": [
        "plt.figure(figsize=(6, 5))\n",
        "plt.subplot(211)\n",
        "plt.plot(train_loss, label=\"train\")\n",
        "plt.plot(val_loss,  label=\"val\")\n",
        "plt.xlabel(\"epoch\")\n",
        "plt.ylabel(\"loss\")\n",
        "plt.grid(\"on\")\n",
        "plt.legend()\n",
        "plt.subplot(212)\n",
        "plt.plot(train_dice_coefficient, label=\"train\")\n",
        "plt.plot(val_dice_coefficient, label=\"val\")\n",
        "plt.xlabel(\"epoch\")\n",
        "plt.ylabel(\"dice coefficient\")\n",
        "plt.grid(\"on\")\n",
        "plt.legend()\n",
        "plt.tight_layout()"
      ],
      "metadata": {
        "colab": {
          "base_uri": "https://localhost:8080/",
          "height": 507
        },
        "id": "rw8y36trM0l3",
        "outputId": "43bfaa80-def5-4386-8896-5c450eece544"
      },
      "execution_count": 73,
      "outputs": [
        {
          "output_type": "display_data",
          "data": {
            "text/plain": [
              "<Figure size 600x500 with 2 Axes>"
            ],
            "image/png": "[encoded data removed]"
          },
          "metadata": {}
        }
      ]
    },
    {
      "cell_type": "markdown",
      "source": [
        "## 모델 Test"
      ],
      "metadata": {
        "id": "qg71YCy2M3cN"
      }
    },
    {
      "cell_type": "code",
      "source": [
        "def load_model(ckpt_path, num_classes, device):\n",
        "    checkpoint = torch.load(ckpt_path, map_location=device)\n",
        "    model = UNet(num_classes=num_classes)\n",
        "    model.load_state_dict(checkpoint)\n",
        "    model = model.to(device)\n",
        "    model.eval()  # test\n",
        "    return model"
      ],
      "metadata": {
        "id": "-p398OCMM7D-"
      },
      "execution_count": 74,
      "outputs": []
    },
    {
      "cell_type": "code",
      "source": [
        "ckpt_path = \"/content/drive/MyDrive/Study/CV_fc/CV_project/human_segmentation/human_segmentation_model/model_09.pth\"\n",
        "model = load_model(ckpt_path, num_classes, DEVICE)\n",
        "\n",
        "transformer = transforms.Compose([\n",
        "            transforms.Resize((IMAGE_SIZE, IMAGE_SIZE)),\n",
        "            transforms.ToTensor(),\n",
        "            transforms.Normalize(mean=[0.485, 0.456, 0.406], std=[0.229, 0.224, 0.225])\n",
        "            ])"
      ],
      "metadata": {
        "id": "HXlpTl-dM-JU"
      },
      "execution_count": 76,
      "outputs": []
    }
  ]
}